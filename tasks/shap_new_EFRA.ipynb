{
 "cells": [
  {
   "cell_type": "code",
   "execution_count": 1,
   "metadata": {},
   "outputs": [],
   "source": [
    "# ANALISI SHAP DATASET DI TEST TOTALE, VISUALIZZAZIONE DIVISA PER IMPATTO SU CLASSE 0 E 1\n"
   ]
  },
  {
   "cell_type": "code",
   "execution_count": 1,
   "metadata": {},
   "outputs": [
    {
     "name": "stderr",
     "output_type": "stream",
     "text": [
      "/home/cc/venv/rora_venv/lib/python3.8/site-packages/shap/utils/_clustering.py:35: NumbaDeprecationWarning: The 'nopython' keyword argument was not supplied to the 'numba.jit' decorator. The implicit default value for this argument is currently False, but it will be changed to True in Numba 0.59.0. See https://numba.readthedocs.io/en/stable/reference/deprecation.html#deprecation-of-object-mode-fall-back-behaviour-when-using-jit for details.\n",
      "  def _pt_shuffle_rec(i, indexes, index_mask, partition_tree, M, pos):\n",
      "/home/cc/venv/rora_venv/lib/python3.8/site-packages/shap/utils/_clustering.py:54: NumbaDeprecationWarning: The 'nopython' keyword argument was not supplied to the 'numba.jit' decorator. The implicit default value for this argument is currently False, but it will be changed to True in Numba 0.59.0. See https://numba.readthedocs.io/en/stable/reference/deprecation.html#deprecation-of-object-mode-fall-back-behaviour-when-using-jit for details.\n",
      "  def delta_minimization_order(all_masks, max_swap_size=100, num_passes=2):\n",
      "/home/cc/venv/rora_venv/lib/python3.8/site-packages/shap/utils/_clustering.py:63: NumbaDeprecationWarning: The 'nopython' keyword argument was not supplied to the 'numba.jit' decorator. The implicit default value for this argument is currently False, but it will be changed to True in Numba 0.59.0. See https://numba.readthedocs.io/en/stable/reference/deprecation.html#deprecation-of-object-mode-fall-back-behaviour-when-using-jit for details.\n",
      "  def _reverse_window(order, start, length):\n",
      "/home/cc/venv/rora_venv/lib/python3.8/site-packages/shap/utils/_clustering.py:69: NumbaDeprecationWarning: The 'nopython' keyword argument was not supplied to the 'numba.jit' decorator. The implicit default value for this argument is currently False, but it will be changed to True in Numba 0.59.0. See https://numba.readthedocs.io/en/stable/reference/deprecation.html#deprecation-of-object-mode-fall-back-behaviour-when-using-jit for details.\n",
      "  def _reverse_window_score_gain(masks, order, start, length):\n",
      "/home/cc/venv/rora_venv/lib/python3.8/site-packages/shap/utils/_clustering.py:77: NumbaDeprecationWarning: The 'nopython' keyword argument was not supplied to the 'numba.jit' decorator. The implicit default value for this argument is currently False, but it will be changed to True in Numba 0.59.0. See https://numba.readthedocs.io/en/stable/reference/deprecation.html#deprecation-of-object-mode-fall-back-behaviour-when-using-jit for details.\n",
      "  def _mask_delta_score(m1, m2):\n",
      "/home/cc/venv/rora_venv/lib/python3.8/site-packages/shap/links.py:5: NumbaDeprecationWarning: The 'nopython' keyword argument was not supplied to the 'numba.jit' decorator. The implicit default value for this argument is currently False, but it will be changed to True in Numba 0.59.0. See https://numba.readthedocs.io/en/stable/reference/deprecation.html#deprecation-of-object-mode-fall-back-behaviour-when-using-jit for details.\n",
      "  def identity(x):\n",
      "/home/cc/venv/rora_venv/lib/python3.8/site-packages/shap/links.py:10: NumbaDeprecationWarning: The 'nopython' keyword argument was not supplied to the 'numba.jit' decorator. The implicit default value for this argument is currently False, but it will be changed to True in Numba 0.59.0. See https://numba.readthedocs.io/en/stable/reference/deprecation.html#deprecation-of-object-mode-fall-back-behaviour-when-using-jit for details.\n",
      "  def _identity_inverse(x):\n",
      "/home/cc/venv/rora_venv/lib/python3.8/site-packages/shap/links.py:15: NumbaDeprecationWarning: The 'nopython' keyword argument was not supplied to the 'numba.jit' decorator. The implicit default value for this argument is currently False, but it will be changed to True in Numba 0.59.0. See https://numba.readthedocs.io/en/stable/reference/deprecation.html#deprecation-of-object-mode-fall-back-behaviour-when-using-jit for details.\n",
      "  def logit(x):\n",
      "/home/cc/venv/rora_venv/lib/python3.8/site-packages/shap/links.py:20: NumbaDeprecationWarning: The 'nopython' keyword argument was not supplied to the 'numba.jit' decorator. The implicit default value for this argument is currently False, but it will be changed to True in Numba 0.59.0. See https://numba.readthedocs.io/en/stable/reference/deprecation.html#deprecation-of-object-mode-fall-back-behaviour-when-using-jit for details.\n",
      "  def _logit_inverse(x):\n",
      "/home/cc/venv/rora_venv/lib/python3.8/site-packages/shap/utils/_masked_model.py:363: NumbaDeprecationWarning: The 'nopython' keyword argument was not supplied to the 'numba.jit' decorator. The implicit default value for this argument is currently False, but it will be changed to True in Numba 0.59.0. See https://numba.readthedocs.io/en/stable/reference/deprecation.html#deprecation-of-object-mode-fall-back-behaviour-when-using-jit for details.\n",
      "  def _build_fixed_single_output(averaged_outs, last_outs, outputs, batch_positions, varying_rows, num_varying_rows, link, linearizing_weights):\n",
      "/home/cc/venv/rora_venv/lib/python3.8/site-packages/shap/utils/_masked_model.py:385: NumbaDeprecationWarning: The 'nopython' keyword argument was not supplied to the 'numba.jit' decorator. The implicit default value for this argument is currently False, but it will be changed to True in Numba 0.59.0. See https://numba.readthedocs.io/en/stable/reference/deprecation.html#deprecation-of-object-mode-fall-back-behaviour-when-using-jit for details.\n",
      "  def _build_fixed_multi_output(averaged_outs, last_outs, outputs, batch_positions, varying_rows, num_varying_rows, link, linearizing_weights):\n",
      "/home/cc/venv/rora_venv/lib/python3.8/site-packages/shap/utils/_masked_model.py:428: NumbaDeprecationWarning: The 'nopython' keyword argument was not supplied to the 'numba.jit' decorator. The implicit default value for this argument is currently False, but it will be changed to True in Numba 0.59.0. See https://numba.readthedocs.io/en/stable/reference/deprecation.html#deprecation-of-object-mode-fall-back-behaviour-when-using-jit for details.\n",
      "  def _init_masks(cluster_matrix, M, indices_row_pos, indptr):\n",
      "/home/cc/venv/rora_venv/lib/python3.8/site-packages/shap/utils/_masked_model.py:439: NumbaDeprecationWarning: The 'nopython' keyword argument was not supplied to the 'numba.jit' decorator. The implicit default value for this argument is currently False, but it will be changed to True in Numba 0.59.0. See https://numba.readthedocs.io/en/stable/reference/deprecation.html#deprecation-of-object-mode-fall-back-behaviour-when-using-jit for details.\n",
      "  def _rec_fill_masks(cluster_matrix, indices_row_pos, indptr, indices, M, ind):\n",
      "/home/cc/venv/rora_venv/lib/python3.8/site-packages/shap/maskers/_tabular.py:186: NumbaDeprecationWarning: The 'nopython' keyword argument was not supplied to the 'numba.jit' decorator. The implicit default value for this argument is currently False, but it will be changed to True in Numba 0.59.0. See https://numba.readthedocs.io/en/stable/reference/deprecation.html#deprecation-of-object-mode-fall-back-behaviour-when-using-jit for details.\n",
      "  def _single_delta_mask(dind, masked_inputs, last_mask, data, x, noop_code):\n",
      "/home/cc/venv/rora_venv/lib/python3.8/site-packages/shap/maskers/_tabular.py:197: NumbaDeprecationWarning: The 'nopython' keyword argument was not supplied to the 'numba.jit' decorator. The implicit default value for this argument is currently False, but it will be changed to True in Numba 0.59.0. See https://numba.readthedocs.io/en/stable/reference/deprecation.html#deprecation-of-object-mode-fall-back-behaviour-when-using-jit for details.\n",
      "  def _delta_masking(masks, x, curr_delta_inds, varying_rows_out,\n",
      "/home/cc/venv/rora_venv/lib/python3.8/site-packages/shap/maskers/_image.py:175: NumbaDeprecationWarning: The 'nopython' keyword argument was not supplied to the 'numba.jit' decorator. The implicit default value for this argument is currently False, but it will be changed to True in Numba 0.59.0. See https://numba.readthedocs.io/en/stable/reference/deprecation.html#deprecation-of-object-mode-fall-back-behaviour-when-using-jit for details.\n",
      "  def _jit_build_partition_tree(xmin, xmax, ymin, ymax, zmin, zmax, total_ywidth, total_zwidth, M, clustering, q):\n",
      "/home/cc/venv/rora_venv/lib/python3.8/site-packages/shap/explainers/_partition.py:676: NumbaDeprecationWarning: The 'nopython' keyword argument was not supplied to the 'numba.jit' decorator. The implicit default value for this argument is currently False, but it will be changed to True in Numba 0.59.0. See https://numba.readthedocs.io/en/stable/reference/deprecation.html#deprecation-of-object-mode-fall-back-behaviour-when-using-jit for details.\n",
      "  def lower_credit(i, value, M, values, clustering):\n",
      "The 'nopython' keyword argument was not supplied to the 'numba.jit' decorator. The implicit default value for this argument is currently False, but it will be changed to True in Numba 0.59.0. See https://numba.readthedocs.io/en/stable/reference/deprecation.html#deprecation-of-object-mode-fall-back-behaviour-when-using-jit for details.\n",
      "The 'nopython' keyword argument was not supplied to the 'numba.jit' decorator. The implicit default value for this argument is currently False, but it will be changed to True in Numba 0.59.0. See https://numba.readthedocs.io/en/stable/reference/deprecation.html#deprecation-of-object-mode-fall-back-behaviour-when-using-jit for details.\n",
      "[nltk_data] Downloading package punkt to /home/cc/nltk_data...\n",
      "[nltk_data]   Package punkt is already up-to-date!\n"
     ]
    }
   ],
   "source": [
    "import torch\n",
    "from transformers import AutoTokenizer\n",
    "\n",
    "import shap\n",
    "import nltk\n",
    "import pickle\n",
    "import string\n",
    "import numpy as np\n",
    "import pandas as pd\n",
    "import matplotlib.pyplot as plt\n",
    "\n",
    "nltk.download(\"punkt\")\n",
    "from nltk.tokenize import sent_tokenize, word_tokenize\n",
    "\n",
    "# from error_analysis_TRC import load_local_model\n",
    "from TRC.utils import create_token_dict, get_top_n, load_local_TRC_model\n",
    "\n",
    "\n",
    "from better_profanity import profanity\n",
    "from copy import deepcopy\n",
    "from ast import literal_eval"
   ]
  },
  {
   "cell_type": "code",
   "execution_count": 2,
   "metadata": {},
   "outputs": [],
   "source": [
    "ASSIGN_WEIGHT = True\n",
    "\n",
    "device = torch.device(\"cuda\" if torch.cuda.is_available() else \"cpu\")\n",
    "#device = \"cpu\"\n",
    "model_name = 'roberta-large'\n",
    "\n",
    "# model_path = '/home/agensale/rora_tesi_new/log/log_EFRA/news/roberta-large/from_finetuned/10_epoch/SampleAgroknow/True_weight/42_seed/saved-model/pytorch_model.bin'\n",
    "# config_path = '/home/agensale/rora_tesi_new/log/log_EFRA/news/roberta-large/from_finetuned/10_epoch/SampleAgroknow/True_weight/42_seed/saved-model/config.json'\n",
    "\n",
    "model_path = '/home/cc/rob-large/pytorch_model.bin'\n",
    "config_path = '/home/cc/rob-large/config.json'"
   ]
  },
  {
   "cell_type": "code",
   "execution_count": 3,
   "metadata": {},
   "outputs": [
    {
     "name": "stderr",
     "output_type": "stream",
     "text": [
      "Some weights of the model checkpoint at roberta-large were not used when initializing RobertaModel: ['lm_head.dense.weight', 'lm_head.dense.bias', 'roberta.pooler.dense.bias', 'lm_head.layer_norm.bias', 'lm_head.decoder.weight', 'lm_head.layer_norm.weight', 'lm_head.bias', 'roberta.pooler.dense.weight']\n",
      "- This IS expected if you are initializing RobertaModel from the checkpoint of a model trained on another task or with another architecture (e.g. initializing a BertForSequenceClassification model from a BertForPreTraining model).\n",
      "- This IS NOT expected if you are initializing RobertaModel from the checkpoint of a model that you expect to be exactly identical (initializing a BertForSequenceClassification model from a BertForSequenceClassification model).\n"
     ]
    }
   ],
   "source": [
    "tokenizer = AutoTokenizer.from_pretrained(model_name, normalization = True)\n",
    "model = load_local_TRC_model(model_path, config_path, device, model_name)\n",
    "model = model.to(device)"
   ]
  },
  {
   "cell_type": "code",
   "execution_count": 4,
   "metadata": {},
   "outputs": [],
   "source": [
    "# come input prende una lista di tweet\n",
    "def f(x):\n",
    "    # x = [tweet_test[0]]\n",
    "    tv = torch.tensor([tokenizer.encode(v, padding='max_length', max_length=128, truncation=True) for v in x]).to(device)\n",
    "    # print('tv',tv.shape)\n",
    "    attention_mask = (tv!=0).type(torch.int64).to(device)\n",
    "    # print('atte',attention_mask.shape)\n",
    "    model.eval()\n",
    "    with torch.no_grad():\n",
    "        outputs = model(tv, attention_mask, class_weight=None)\n",
    "    # print(outputs)\n",
    "\n",
    "    return outputs['logits']"
   ]
  },
  {
   "cell_type": "code",
   "execution_count": 5,
   "metadata": {},
   "outputs": [
    {
     "data": {
      "text/plain": [
       "<shap.explainers._partition.Partition at 0x7ff198310d60>"
      ]
     },
     "execution_count": 5,
     "metadata": {},
     "output_type": "execute_result"
    }
   ],
   "source": [
    "explainer = shap.Explainer(f, masker = tokenizer)\n",
    "explainer"
   ]
  },
  {
   "cell_type": "code",
   "execution_count": 139,
   "metadata": {},
   "outputs": [],
   "source": [
    "news_corrette = pd.read_csv('/home/cc/rora_tesi_new/log/log_EFRA/news/roberta-large/from_finetuned/10_epoch/SampleAgroknow/True_weight/42_seed/news_corrette.csv', index_col = 0, converters={'News tok':literal_eval})\n",
    "news_errate = pd.read_csv('/home/cc/rora_tesi_new/log/log_EFRA/news/roberta-large/from_finetuned/10_epoch/SampleAgroknow/True_weight/42_seed/news_errate.csv', index_col = 0, converters={'News tok':literal_eval})"
   ]
  },
  {
   "cell_type": "code",
   "execution_count": 140,
   "metadata": {},
   "outputs": [],
   "source": [
    "news_total = pd.concat([news_corrette, news_errate])"
   ]
  },
  {
   "cell_type": "code",
   "execution_count": 141,
   "metadata": {},
   "outputs": [],
   "source": [
    "def flatten_lists(row):\n",
    "    # Utilizziamo una list comprehension per appiattire le liste di liste mantenendo le stringhe intatte\n",
    "    return [item for sublist in row for item in sublist]\n",
    "\n",
    "# Applica la funzione a ogni riga del DataFrame\n",
    "news_total['lista_piatta'] = news_total['News tok'].apply(flatten_lists)"
   ]
  },
  {
   "cell_type": "code",
   "execution_count": 142,
   "metadata": {},
   "outputs": [],
   "source": [
    "news_total = news_total[news_total['lista_piatta'].apply(lambda x: len(x) <= 512)]"
   ]
  },
  {
   "cell_type": "code",
   "execution_count": 143,
   "metadata": {},
   "outputs": [],
   "source": [
    "news_0 = news_total[news_total['True label'] == 0]\n",
    "news_1 = news_total[news_total['True label'] == 1]"
   ]
  },
  {
   "cell_type": "code",
   "execution_count": 144,
   "metadata": {},
   "outputs": [
    {
     "data": {
      "text/plain": [
       "True"
      ]
     },
     "execution_count": 144,
     "metadata": {},
     "output_type": "execute_result"
    }
   ],
   "source": [
    "len(news_0) + len(news_1) == len(news_total)"
   ]
  },
  {
   "cell_type": "code",
   "execution_count": 145,
   "metadata": {},
   "outputs": [],
   "source": [
    "news_0 = news_0.sample(n=500, random_state=42, ignore_index= True)\n",
    "news_1 = news_1.sample(n=500, random_state=42, ignore_index=True)"
   ]
  },
  {
   "cell_type": "code",
   "execution_count": 146,
   "metadata": {},
   "outputs": [
    {
     "data": {
      "text/plain": [
       "1000"
      ]
     },
     "execution_count": 146,
     "metadata": {},
     "output_type": "execute_result"
    }
   ],
   "source": [
    "news_total = pd.concat([news_0, news_1], ignore_index=True)\n",
    "len(news_total)"
   ]
  },
  {
   "cell_type": "code",
   "execution_count": 147,
   "metadata": {},
   "outputs": [],
   "source": [
    "news_total = news_total.sample(frac=1).reset_index(drop=True)"
   ]
  },
  {
   "cell_type": "code",
   "execution_count": 148,
   "metadata": {},
   "outputs": [],
   "source": [
    "# news_total = news_total.sample(n=500, random_state=42, ignore_index= True)"
   ]
  },
  {
   "cell_type": "code",
   "execution_count": 149,
   "metadata": {},
   "outputs": [],
   "source": [
    "# news_total.head()"
   ]
  },
  {
   "cell_type": "code",
   "execution_count": 150,
   "metadata": {},
   "outputs": [],
   "source": [
    "# # Espandi le liste di liste in nuove righe\n",
    "# news_total = news_total.explode(\"News tok\")\n",
    "\n",
    "# # Resetta l'indice del DataFrame risultante\n",
    "# news_total.reset_index(drop=True, inplace=True)\n"
   ]
  },
  {
   "cell_type": "code",
   "execution_count": 151,
   "metadata": {},
   "outputs": [],
   "source": [
    "def clean_strings(big_tokens_list):\n",
    "    tags = ['@USER','USER', 'HTTPURL', 'HTTP', 'URL']\n",
    "    nltk.download('stopwords')\n",
    "    profanity.load_censor_words()\n",
    "    stop_words = set(nltk.corpus.stopwords.words('english'))\n",
    "    clean_list = []\n",
    "    for t_list in big_tokens_list:\n",
    "        tokens = deepcopy(t_list)\n",
    "        for token, i in zip(t_list, range(len(t_list))):\n",
    "            tmp = deepcopy(token)\n",
    "            tmp = tmp.strip()\n",
    "            tmp = tmp.lower()\n",
    "            if tmp in string.punctuation or \\\n",
    "            tmp.upper() in tags or \\\n",
    "            tmp == '...' or  tmp == '....' or \\\n",
    "            tmp in stop_words or \\\n",
    "            profanity.contains_profanity(tmp) or \\\n",
    "            len(tmp) < 3:\n",
    "                tokens.remove(token)\n",
    "        clean_list.append(' '.join(tokens))\n",
    "    return clean_list\n",
    "        "
   ]
  },
  {
   "cell_type": "code",
   "execution_count": 152,
   "metadata": {},
   "outputs": [],
   "source": [
    "# SHAP FOR ALL DS"
   ]
  },
  {
   "cell_type": "code",
   "execution_count": 153,
   "metadata": {},
   "outputs": [],
   "source": [
    "# all_tweets = df_total['Tweet'].tolist()\n",
    "all_tweets_tokens = news_total['lista_piatta'].tolist()\n",
    "# all_tweets_tokens = news_total['News tok'].tolist()"
   ]
  },
  {
   "cell_type": "code",
   "execution_count": 154,
   "metadata": {},
   "outputs": [],
   "source": [
    "# all_tweets_tokens"
   ]
  },
  {
   "cell_type": "code",
   "execution_count": 155,
   "metadata": {},
   "outputs": [
    {
     "name": "stderr",
     "output_type": "stream",
     "text": [
      "[nltk_data] Downloading package stopwords to /home/cc/nltk_data...\n",
      "[nltk_data]   Package stopwords is already up-to-date!\n"
     ]
    },
    {
     "data": {
      "text/plain": [
       "['USDA announced new Deputy Secretary Food Safety Sandra Eskin previously served Project Director Food Safety Pew Charitable Trust. Eskin experience strategic public policy issues related consumer protection food safety dietary supplement safety food drug labeling advertising. also served federal government staff attorney legislative representative Consumer Federation America well deputy director Produce Safety Project.“Sandra’s deep experience food safety strengthen USDA’s dedication ensuring safe secure food supply consumers help protect safety federal meat inspectors workers throughout food chain said Agriculture Secretary Tom Vilsack USDA press release.“Eskin USDA particularly challenging time agency. COVID pandemic widened inequities worsened nearly every problem food supply employees meat processing facilities hardest hit workers industry. Even setting pandemic aside USDA much could protect Americans foodborne pathogens dangerous strains Salmonella contaminate poultry. Eskin knows sound science key sound food safety policies help steer ship right direction.” Peter Lurie M.D. president Center Science Public InterestThe post USDA Names Sandra Eskin Deputy Secretary Food Safety appeared first FoodSafetyTech.',\n",
       " 'Oracle Corp. announced today signed definitive merger agreement acquire PeopleSoft Inc. approximately billion. &lt;FONT face=\"verdana Sans Serif arial helvetica\" size=\" color=\"#\"&gt;&lt;B&gt; AP&lt;/b&gt;&lt;/font&gt;',\n",
       " \"agriculture ministry's initiative parliament adopted law amendment allows food safety persons criminal action. adulteration food relating fraud illegal activities domestic.......Original Source: dailytimes\",\n",
       " 'EAST RUTHERFORD ways New Jersey Nets searching identity much expansion Charlotte Bobcats. #;s price dismantled offseason.',\n",
       " 'Vulnerable groups elderly helped buy digital equipment report says.']"
      ]
     },
     "execution_count": 155,
     "metadata": {},
     "output_type": "execute_result"
    }
   ],
   "source": [
    "cleaned_all = clean_strings(all_tweets_tokens)\n",
    "cleaned_all[:5]"
   ]
  },
  {
   "cell_type": "code",
   "execution_count": 22,
   "metadata": {},
   "outputs": [
    {
     "name": "stdout",
     "output_type": "stream",
     "text": [
      "Lunghezza media: 841.244\n"
     ]
    }
   ],
   "source": [
    "lunghezza_media = sum(len(s) for s in cleaned_all) / len(cleaned_all)\n",
    "\n",
    "# Stampa il risultato\n",
    "print(\"Lunghezza media:\", lunghezza_media)"
   ]
  },
  {
   "cell_type": "code",
   "execution_count": 156,
   "metadata": {},
   "outputs": [
    {
     "name": "stderr",
     "output_type": "stream",
     "text": [
      "Partition explainer:   3%|▎         | 29/1000 [01:54<1:10:47,  4.37s/it]"
     ]
    },
    {
     "data": {
      "application/vnd.jupyter.widget-view+json": {
       "model_id": "5133e4115ce7411a859c1bb2121539b3",
       "version_major": 2,
       "version_minor": 0
      },
      "text/plain": [
       "  0%|          | 0/498 [00:00<?, ?it/s]"
      ]
     },
     "metadata": {},
     "output_type": "display_data"
    },
    {
     "name": "stderr",
     "output_type": "stream",
     "text": [
      "Partition explainer:   8%|▊         | 75/1000 [05:13<1:00:51,  3.95s/it]"
     ]
    },
    {
     "data": {
      "application/vnd.jupyter.widget-view+json": {
       "model_id": "3a8f7e29276f46bf8415f5f3ff23cb40",
       "version_major": 2,
       "version_minor": 0
      },
      "text/plain": [
       "  0%|          | 0/498 [00:00<?, ?it/s]"
      ]
     },
     "metadata": {},
     "output_type": "display_data"
    },
    {
     "name": "stderr",
     "output_type": "stream",
     "text": [
      "Partition explainer:  12%|█▏        | 116/1000 [08:08<1:05:51,  4.47s/it]"
     ]
    },
    {
     "data": {
      "application/vnd.jupyter.widget-view+json": {
       "model_id": "56cdcfcb58004a47bcc9a461a9ade020",
       "version_major": 2,
       "version_minor": 0
      },
      "text/plain": [
       "  0%|          | 0/498 [00:00<?, ?it/s]"
      ]
     },
     "metadata": {},
     "output_type": "display_data"
    },
    {
     "name": "stderr",
     "output_type": "stream",
     "text": [
      "Partition explainer:  17%|█▋        | 172/1000 [12:08<59:05,  4.28s/it]  "
     ]
    },
    {
     "data": {
      "application/vnd.jupyter.widget-view+json": {
       "model_id": "ff1d8b41a45647778cf5e3f7046299d7",
       "version_major": 2,
       "version_minor": 0
      },
      "text/plain": [
       "  0%|          | 0/498 [00:00<?, ?it/s]"
      ]
     },
     "metadata": {},
     "output_type": "display_data"
    },
    {
     "name": "stderr",
     "output_type": "stream",
     "text": [
      "Partition explainer:  26%|██▌       | 262/1000 [18:20<49:25,  4.02s/it]  "
     ]
    },
    {
     "data": {
      "application/vnd.jupyter.widget-view+json": {
       "model_id": "cb641fd7a8f0467bb7b5bac961efcd4c",
       "version_major": 2,
       "version_minor": 0
      },
      "text/plain": [
       "  0%|          | 0/498 [00:00<?, ?it/s]"
      ]
     },
     "metadata": {},
     "output_type": "display_data"
    },
    {
     "name": "stderr",
     "output_type": "stream",
     "text": [
      "Partition explainer:  33%|███▎      | 334/1000 [23:18<48:15,  4.35s/it]"
     ]
    },
    {
     "data": {
      "application/vnd.jupyter.widget-view+json": {
       "model_id": "bb04112a2825462ead8a48625a03f9a9",
       "version_major": 2,
       "version_minor": 0
      },
      "text/plain": [
       "  0%|          | 0/498 [00:00<?, ?it/s]"
      ]
     },
     "metadata": {},
     "output_type": "display_data"
    },
    {
     "name": "stderr",
     "output_type": "stream",
     "text": [
      "Partition explainer:  47%|████▋     | 473/1000 [33:10<38:18,  4.36s/it]"
     ]
    },
    {
     "data": {
      "application/vnd.jupyter.widget-view+json": {
       "model_id": "46c7cf063f9e462f9d590b91f8950286",
       "version_major": 2,
       "version_minor": 0
      },
      "text/plain": [
       "  0%|          | 0/498 [00:00<?, ?it/s]"
      ]
     },
     "metadata": {},
     "output_type": "display_data"
    },
    {
     "name": "stderr",
     "output_type": "stream",
     "text": [
      "Partition explainer:  58%|█████▊    | 580/1000 [40:42<30:40,  4.38s/it]"
     ]
    },
    {
     "data": {
      "application/vnd.jupyter.widget-view+json": {
       "model_id": "3b07c5ba9bed44d490cf5a1aef499dfe",
       "version_major": 2,
       "version_minor": 0
      },
      "text/plain": [
       "  0%|          | 0/498 [00:00<?, ?it/s]"
      ]
     },
     "metadata": {},
     "output_type": "display_data"
    },
    {
     "name": "stderr",
     "output_type": "stream",
     "text": [
      "Partition explainer:  63%|██████▎   | 628/1000 [44:07<27:05,  4.37s/it]"
     ]
    },
    {
     "data": {
      "application/vnd.jupyter.widget-view+json": {
       "model_id": "9ca7b162e9124575b37a8c6d7d46970e",
       "version_major": 2,
       "version_minor": 0
      },
      "text/plain": [
       "  0%|          | 0/498 [00:00<?, ?it/s]"
      ]
     },
     "metadata": {},
     "output_type": "display_data"
    },
    {
     "name": "stderr",
     "output_type": "stream",
     "text": [
      "Partition explainer:  63%|██████▎   | 631/1000 [44:21<28:12,  4.59s/it]"
     ]
    },
    {
     "data": {
      "application/vnd.jupyter.widget-view+json": {
       "model_id": "78d9811853044fb089fd1262450eb959",
       "version_major": 2,
       "version_minor": 0
      },
      "text/plain": [
       "  0%|          | 0/498 [00:00<?, ?it/s]"
      ]
     },
     "metadata": {},
     "output_type": "display_data"
    },
    {
     "name": "stderr",
     "output_type": "stream",
     "text": [
      "Partition explainer:  69%|██████▊   | 687/1000 [48:13<22:48,  4.37s/it]"
     ]
    },
    {
     "data": {
      "application/vnd.jupyter.widget-view+json": {
       "model_id": "640b0331dfe0416f9cc25deff72f58de",
       "version_major": 2,
       "version_minor": 0
      },
      "text/plain": [
       "  0%|          | 0/498 [00:00<?, ?it/s]"
      ]
     },
     "metadata": {},
     "output_type": "display_data"
    },
    {
     "name": "stderr",
     "output_type": "stream",
     "text": [
      "Partition explainer:  75%|███████▌  | 754/1000 [52:59<18:18,  4.46s/it]"
     ]
    },
    {
     "data": {
      "application/vnd.jupyter.widget-view+json": {
       "model_id": "2345146abfa14aa19bfcebe6a0d51c05",
       "version_major": 2,
       "version_minor": 0
      },
      "text/plain": [
       "  0%|          | 0/498 [00:00<?, ?it/s]"
      ]
     },
     "metadata": {},
     "output_type": "display_data"
    },
    {
     "name": "stderr",
     "output_type": "stream",
     "text": [
      "Partition explainer:  87%|████████▋ | 870/1000 [1:01:09<07:35,  3.50s/it]"
     ]
    },
    {
     "data": {
      "application/vnd.jupyter.widget-view+json": {
       "model_id": "86977c1c46c3400f9f8873bf154d7a45",
       "version_major": 2,
       "version_minor": 0
      },
      "text/plain": [
       "  0%|          | 0/498 [00:00<?, ?it/s]"
      ]
     },
     "metadata": {},
     "output_type": "display_data"
    },
    {
     "name": "stderr",
     "output_type": "stream",
     "text": [
      "Partition explainer:  91%|█████████▏| 913/1000 [1:04:02<06:36,  4.56s/it]"
     ]
    },
    {
     "data": {
      "application/vnd.jupyter.widget-view+json": {
       "model_id": "863d53c815d041f9aa0bc2e9b33fbbca",
       "version_major": 2,
       "version_minor": 0
      },
      "text/plain": [
       "  0%|          | 0/498 [00:00<?, ?it/s]"
      ]
     },
     "metadata": {},
     "output_type": "display_data"
    },
    {
     "name": "stderr",
     "output_type": "stream",
     "text": [
      "Partition explainer:  98%|█████████▊| 979/1000 [1:08:38<01:29,  4.25s/it]"
     ]
    },
    {
     "data": {
      "application/vnd.jupyter.widget-view+json": {
       "model_id": "ebdb4fe1665d49c1ab55435b4c079222",
       "version_major": 2,
       "version_minor": 0
      },
      "text/plain": [
       "  0%|          | 0/498 [00:00<?, ?it/s]"
      ]
     },
     "metadata": {},
     "output_type": "display_data"
    },
    {
     "name": "stderr",
     "output_type": "stream",
     "text": [
      "Partition explainer: 1001it [1:10:10,  4.22s/it]                          \n"
     ]
    },
    {
     "name": "stdout",
     "output_type": "stream",
     "text": [
      "(1000, None, 2)\n",
      "['Output 0', 'Output 1']\n"
     ]
    }
   ],
   "source": [
    "# CREAZIONE SHAP_VALUES E SALVATAGGIO IN PICKLE\n",
    "\n",
    "\n",
    "save_path = '/home/cc/rora_tesi_new/log/log_EFRA/news/roberta-large/from_finetuned/10_epoch/SampleAgroknow/True_weight/42_seed/shap/'\n",
    "shap_values = explainer(cleaned_all)\n",
    "print(shap_values.shape)\n",
    "print(shap_values.output_names)\n",
    "with open(save_path + 'shap_values_all_test.pickle', 'wb') as handle:\n",
    "    pickle.dump(shap_values, handle, protocol=pickle.HIGHEST_PROTOCOL)"
   ]
  },
  {
   "cell_type": "code",
   "execution_count": 157,
   "metadata": {},
   "outputs": [],
   "source": [
    "# LETTURA DA FILE PICKLE SHAP_VALUES SALVATI \n",
    "\n",
    "save_path = '/home/cc/rora_tesi_new/log/log_EFRA/news/roberta-large/from_finetuned/10_epoch/SampleAgroknow/True_weight/42_seed/shap/'\n",
    "with open(save_path + 'shap_values_all_test.pickle', 'rb') as handle:\n",
    "    shap_values_loaded = pickle.load(handle)"
   ]
  },
  {
   "cell_type": "code",
   "execution_count": 158,
   "metadata": {},
   "outputs": [],
   "source": [
    "def token_dict(shap_values):\n",
    "    token_dict_pos = {}\n",
    "    token_dict_neg = {}\n",
    "    nltk.download('stopwords')\n",
    "    profanity.load_censor_words()\n",
    "    stop_words = set(nltk.corpus.stopwords.words('english'))\n",
    "    val = [shap_values[i] for i in range(len(shap_values))]\n",
    "    for el in val:\n",
    "        for i in range(len(el)-1):\n",
    "            token = el[i].data\n",
    "            token = token.strip()\n",
    "            if token not in string.punctuation and token != 'USER' and token != 'HTTPURL' and token != 'HTTP' and token!='URL' and token != '...' and len(token) >= 3:\n",
    "                shap_val = el[i].values\n",
    "                # pos = abs(shap_val[0])\n",
    "                # neg = abs(shap_val[1])\n",
    "                pos = shap_val[1]\n",
    "                neg = shap_val[0]\n",
    "                token = token.lower()\n",
    "                if token not in stop_words:\n",
    "                    if not profanity.contains_profanity(token):\n",
    "                        if (token not in token_dict_pos.keys()) or (token not in token_dict_neg.keys()):\n",
    "                            token_dict_pos[token] = pos\n",
    "                            token_dict_neg[token] = neg\n",
    "                        else:\n",
    "                            token_dict_pos[token] += pos\n",
    "                            token_dict_neg[token] += neg\n",
    "                            \n",
    "    return token_dict_pos, token_dict_neg"
   ]
  },
  {
   "cell_type": "code",
   "execution_count": 159,
   "metadata": {},
   "outputs": [
    {
     "name": "stderr",
     "output_type": "stream",
     "text": [
      "[nltk_data] Downloading package stopwords to /home/cc/nltk_data...\n",
      "[nltk_data]   Package stopwords is already up-to-date!\n"
     ]
    }
   ],
   "source": [
    "token_dict_pos, token_dict_neg = token_dict(shap_values_loaded)"
   ]
  },
  {
   "cell_type": "code",
   "execution_count": 176,
   "metadata": {},
   "outputs": [],
   "source": [
    "sorted_pos = sorted(token_dict_pos.items(), key = lambda x:abs(x[1]), reverse = True)\n",
    "sorted_d_pos = dict(sorted_pos)\n",
    "\n",
    "sorted_neg = sorted(token_dict_neg.items(), key = lambda x:abs(x[1]), reverse = True)\n",
    "sorted_d_neg = dict(sorted_neg)"
   ]
  },
  {
   "cell_type": "code",
   "execution_count": 161,
   "metadata": {},
   "outputs": [],
   "source": [
    "# PLOT FOR CLASS 1"
   ]
  },
  {
   "cell_type": "code",
   "execution_count": 177,
   "metadata": {},
   "outputs": [],
   "source": [
    "def remove_keywords(dict):\n",
    "    chiavi_da_eliminare = [\"foodpoisoning\", \"food\", \"poison\", \"poisoning\", \"stomachache\", \"stomach\", \"vomit\", \"puke\", \"diarrhea\", \"runs\", \"the\", \"omach\"] \n",
    "\n",
    "    for chiave in chiavi_da_eliminare:\n",
    "        if chiave in dict:\n",
    "            del dict[chiave]\n",
    "        else:\n",
    "            print(f\"La chiave '{chiave}' non esiste nel dizionario.\")\n",
    "    "
   ]
  },
  {
   "cell_type": "code",
   "execution_count": 178,
   "metadata": {},
   "outputs": [],
   "source": [
    "to_del = []\n",
    "for k in sorted_d_pos.keys():\n",
    "    if len(k) <= 3:\n",
    "        to_del.append(k)\n",
    "    if k == '....':\n",
    "        to_del.append(k)"
   ]
  },
  {
   "cell_type": "code",
   "execution_count": 179,
   "metadata": {},
   "outputs": [],
   "source": [
    "for k in to_del:\n",
    "    del sorted_d_pos[k]"
   ]
  },
  {
   "cell_type": "code",
   "execution_count": 180,
   "metadata": {},
   "outputs": [],
   "source": [
    "# remove_keywords(sorted_d_pos)"
   ]
  },
  {
   "cell_type": "code",
   "execution_count": 181,
   "metadata": {},
   "outputs": [],
   "source": [
    "to_plot_pos = get_top_n(20,sorted_d_pos)"
   ]
  },
  {
   "cell_type": "code",
   "execution_count": 182,
   "metadata": {},
   "outputs": [
    {
     "data": {
      "text/plain": [
       "{'source': -17.202363159467666,\n",
       " 'original': -9.533625658360306,\n",
       " 'government': 3.313556815380287,\n",
       " 'market': -2.6569470029606395,\n",
       " 'reported': 2.165496877163086,\n",
       " 'report': -2.0361053929734036,\n",
       " 'world': -1.9457374073392457,\n",
       " 'billion': -1.8181167427765297,\n",
       " 'former': -1.7991332511423896,\n",
       " 'global': -1.76900669233418,\n",
       " 'minister': -1.7176719843573283,\n",
       " 'mobile': 1.6065486950985812,\n",
       " 'week': 1.5730157584876474,\n",
       " 'chief': -1.5027864139291276,\n",
       " 'talks': -1.4933988358368004,\n",
       " 'terms': -1.4057959232270065,\n",
       " 'last': -1.3622413557573876,\n",
       " 'said': 1.352272564900478,\n",
       " 'quot': -1.3337901201963955,\n",
       " 'company': -1.3217591497237013,\n",
       " 'outbreak': 1.3136039422031485,\n",
       " 'research': -1.2850016415040633,\n",
       " 'united': -1.2792027988666277,\n",
       " 'executive': -1.2722256153032674,\n",
       " 'could': -1.2719818065009634,\n",
       " 'high': -1.2711480314659758,\n",
       " 'place': -1.250948104752332,\n",
       " 'says': -1.2370403388404814,\n",
       " 'street': -1.196872194338741,\n",
       " 'products': 1.1941228998943758,\n",
       " 'health': 1.1917071388352116,\n",
       " 'sealed': -1.1873345739364622,\n",
       " 'found': 1.1441895125265305,\n",
       " 'year': -1.1239078238662832,\n",
       " 'product': 1.1233677650220857,\n",
       " 'quarter': 1.1225826213242691,\n",
       " 'adul': 1.1163980897777197,\n",
       " 'court': -1.1143095944737462,\n",
       " 'would': -1.087806393586915,\n",
       " 'federal': 1.0872040268312266,\n",
       " 'drug': 1.0766733677838687,\n",
       " 'recalled': 1.075829300271525,\n",
       " 'ation': 1.0685181411819575,\n",
       " 'corp': -1.063790118594862,\n",
       " 'today': -1.0569731283258053,\n",
       " 'hopes': -1.0496705566228322,\n",
       " 'mone': 1.0427672601998286,\n",
       " 'three': -1.0358157928502632,\n",
       " 'muslim': 1.0353581572999246,\n",
       " 'google': 1.0219585437541052,\n",
       " 'indu': 1.0042962078428403,\n",
       " 'food': -1.0006786088979371,\n",
       " 'election': 0.9938071287974405,\n",
       " 'month': -0.9793268777924253,\n",
       " 'sales': -0.970330091741478,\n",
       " 'scored': -0.9694989797426388,\n",
       " 'hospital': 0.9520964031218551,\n",
       " 'union': 0.9479146882829985,\n",
       " 'authority': -0.935428729644348,\n",
       " 'cent': -0.9340383197979202,\n",
       " 'episode': -0.9041178546624169,\n",
       " 'even': -0.8954195588778854,\n",
       " 'cash': 0.889943536583966,\n",
       " 'ated': -0.8880780989529218,\n",
       " 'race': -0.8873477751935402,\n",
       " 'five': -0.8848068683611366,\n",
       " 'points': -0.876097902084331,\n",
       " 'clash': -0.8727870710426942,\n",
       " 'held': -0.8692271163849684,\n",
       " 'also': -0.8676912733262441,\n",
       " 'yesterday': -0.862700275069814,\n",
       " 'thursday': -0.859649209597867,\n",
       " 'round': -0.8531670808134695,\n",
       " 'foods': 0.8444121279175477,\n",
       " 'contamination': 0.8368787745632563,\n",
       " 'move': -0.8343203173644921,\n",
       " 'cons': 0.8301490401304816,\n",
       " 'season': 0.8286444939329443,\n",
       " 'india': -0.8271393681622498,\n",
       " 'computer': 0.8171599984351771,\n",
       " 'anne': -0.8128039477548251,\n",
       " 'england': 0.8100839784536094,\n",
       " 'financial': 0.8083302276966676,\n",
       " 'technology': 0.8076447748856141,\n",
       " 'among': -0.8027030521319035,\n",
       " 'league': -0.802349421043172,\n",
       " 'expected': -0.7982153129192049,\n",
       " 'recall': 0.7968151239440734,\n",
       " 'well': -0.7941394730517395,\n",
       " 'organic': -0.7909452720839341,\n",
       " 'wall': -0.785989088438701,\n",
       " 'lawsuits': 0.7815797251362946,\n",
       " 'centre': -0.7812580601703262,\n",
       " 'consumers': 0.777773720812083,\n",
       " 'collective': 0.7684365693712607,\n",
       " 'nation': -0.7666683276290608,\n",
       " '.......': 0.766169309027248,\n",
       " 'july': -0.7649727754106636,\n",
       " 'palestinian': 0.7626360142991567,\n",
       " 'form': -0.7594208629176775,\n",
       " 'speaking': -0.7534943805972693,\n",
       " 'international': -0.7533441869410312,\n",
       " 'linux': -0.7524526288829899,\n",
       " 'saying': -0.7504741257487145,\n",
       " 'news': -0.7462951439933668,\n",
       " 'video': 0.7462496115486763,\n",
       " 'responsibility': 0.7459859387399348,\n",
       " 'hard': -0.7456844418079531,\n",
       " 'inspection': 0.7421155781647653,\n",
       " 'prime': -0.7392386317582034,\n",
       " 'four': -0.7391529661561772,\n",
       " 'take': -0.7390029103353483,\n",
       " 'bush': -0.7312321364375143,\n",
       " 'extraordinary': 0.7253946341881219,\n",
       " 'bankruptcy': 0.7250162524961616,\n",
       " 'legally': -0.7246468820696315,\n",
       " 'giant': -0.7217262614412824,\n",
       " 'talking': -0.7216107896479695,\n",
       " 'doubt': -0.7173446247553008,\n",
       " 'attacks': 0.71333524119788,\n",
       " 'sell': -0.7047733487999996,\n",
       " 'britain': -0.699576124578986,\n",
       " 'country': -0.6969047125642118,\n",
       " 'added': 0.6938944349110618,\n",
       " 'major': -0.6886886926548508,\n",
       " 'statement': -0.686746935794481,\n",
       " 'pure': -0.685904678302117,\n",
       " 'information': 0.6853344132354708,\n",
       " 'punjab': -0.6845923547229096,\n",
       " 'british': -0.6827538192368775,\n",
       " 'black': -0.6809589569942046,\n",
       " 'users': 0.6780908747338781,\n",
       " 'sick': 0.6768915296128111,\n",
       " 'isation': -0.6766044976276326,\n",
       " 'open': 0.6765177510630741,\n",
       " 'igator': 0.6757423896166599,\n",
       " 'stadium': 0.67430353499062,\n",
       " 'reserve': -0.6737323233487171,\n",
       " 'money': 0.6719137372714042,\n",
       " 'peace': -0.671378356249382,\n",
       " 'according': 0.6710051523865734,\n",
       " 'patients': 0.6671011104218191,\n",
       " 'across': -0.6665579202396054,\n",
       " 'team': -0.6646787942895753,\n",
       " 'named': -0.6644300616343393,\n",
       " 'carolina': 0.6622540925220686,\n",
       " 'near': -0.6613344982812989,\n",
       " 'provider': -0.660266991332662,\n",
       " 'microsoft': -0.6602176638923061,\n",
       " 'search': -0.6599991250617954,\n",
       " 'sheikh': -0.65871482345392,\n",
       " 'wine': -0.6551619823093504,\n",
       " 'testing': -0.6483477155522082,\n",
       " 'hygiene': -0.6480191507435031,\n",
       " 'iraq': 0.6439497866154904,\n",
       " 'level': -0.6378377882205089,\n",
       " 'many': -0.6367322736261856,\n",
       " 'friday': -0.6334257343776571,\n",
       " 'quickly': -0.6333451883363268,\n",
       " 'next': -0.631697743336341,\n",
       " 'guard': -0.6314021956753425,\n",
       " 'children': 0.6304014563788446,\n",
       " 'final': -0.6290806451348295,\n",
       " 'phone': 0.629073457546816,\n",
       " 'police': -0.6283214735718484,\n",
       " 'computers': 0.6242427959321772,\n",
       " 'markets': 0.6224228361557542,\n",
       " 'made': -0.6207875723150629,\n",
       " 'good': 0.6191024950848689,\n",
       " 'raising': 0.6176353694754653,\n",
       " 'houston': 0.6147715097991749,\n",
       " 'bank': 0.6142129101987516,\n",
       " 'arkansas': 0.6087443688226678,\n",
       " 'prison': 0.608703719336962,\n",
       " 'killing': -0.6064779918234693,\n",
       " 'senate': 0.5994021065388149,\n",
       " 'direct': -0.5973988468244114,\n",
       " 'first': -0.5955069029312322,\n",
       " 'tuesday': -0.5937584488574251,\n",
       " 'olympic': -0.5911414714937564,\n",
       " 'manufacturers': -0.5899839534898881,\n",
       " 'storage': 0.5896440474893238,\n",
       " 'university': -0.588556831972343,\n",
       " 'policy': 0.5851507179204107,\n",
       " 'running': -0.5833484520136679,\n",
       " 'taken': -0.580285206773523,\n",
       " 'jordanian': -0.5800328477635048,\n",
       " 'suffered': -0.5794413101975806,\n",
       " 'therefore': -0.5781850012605406,\n",
       " 'identified': 0.5781025439921215,\n",
       " 'hold': -0.5764418850613622,\n",
       " 'presidential': 0.5764381480465736,\n",
       " 'terrorism': 0.5764192667983783,\n",
       " 'recommends': -0.5756338114154982,\n",
       " 'investigating': 0.5754950437069642,\n",
       " 'defense': 0.5714025780330964,\n",
       " 'million': -0.5684294025613098,\n",
       " 'kitchen': -0.5655369048966716,\n",
       " 'efforts': 0.5650457862185693,\n",
       " 'television': -0.5572825817869873,\n",
       " 'costs': 0.5572283064184127,\n",
       " 'back': 0.5538813423667054,\n",
       " 'miami': -0.5522775742591921,\n",
       " 'european': -0.5494408834399166,\n",
       " 'players': -0.547878879114675,\n",
       " 'pand': 0.5443600687010507,\n",
       " 'device': 0.543068847405569,\n",
       " 'israeli': 0.5425054113729857,\n",
       " 'mission': 0.5422734565175994,\n",
       " 'monthly': -0.5398521162061822,\n",
       " 'meric': -0.5396876591626899,\n",
       " 'persons': -0.539204152365834,\n",
       " 'slew': -0.5367777883075178,\n",
       " 'step': -0.5363081123577635,\n",
       " 'agency': -0.5356829641794942,\n",
       " 'investigation': 0.5288498885465304,\n",
       " 'apple': -0.5275267509468409,\n",
       " 'ministry': -0.5266607533751855,\n",
       " 'filed': -0.5259539977992311,\n",
       " 'illness': 0.5244710751681562,\n",
       " 'crackdown': -0.5234141772944613,\n",
       " 'series': 0.5207612250832222,\n",
       " 'understand': 0.516657992379294,\n",
       " 'benefit': -0.5154272997524385,\n",
       " 'express': 0.5125476752250302,\n",
       " 'rival': -0.5110089575162247,\n",
       " 'border': -0.5109788350218147,\n",
       " 'region': -0.5101603130592413,\n",
       " 'spent': -0.5100965704768896,\n",
       " 'ivan': -0.5084838928119775,\n",
       " 'price': 0.5064563703589248,\n",
       " 'introduce': 0.5059856546577066,\n",
       " 'judges': 0.5057533201248616,\n",
       " 'entered': 0.5038882853482723,\n",
       " 'risk': 0.500952550842657,\n",
       " 'american': -0.49983611614405055,\n",
       " 'accused': -0.4991317706027447,\n",
       " 'south': -0.49756695160649367,\n",
       " 'believes': 0.4962857061824116,\n",
       " 'notice': 0.4955966920055082,\n",
       " 'landing': -0.49464305043026496,\n",
       " 'decision': 0.49232356865019944,\n",
       " 'discarded': -0.49092807788665166,\n",
       " 'positive': 0.48960784535442436,\n",
       " 'illnesses': 0.4895516897637866,\n",
       " 'group': -0.48920539575661903,\n",
       " 'symptoms': 0.48675088921579995,\n",
       " 'long': -0.4864549653348669,\n",
       " 'little': -0.4862619750271703,\n",
       " 'water': 0.48624763920513236,\n",
       " 'swiss': -0.4845226634140293,\n",
       " 'umers': 0.48314299682671596,\n",
       " 'formats': -0.47963896378253895,\n",
       " 'disease': 0.47933577866742616,\n",
       " 'growth': -0.47678124437758895,\n",
       " 'digital': 0.4746291712570807,\n",
       " 'rebel': -0.4743471127731027,\n",
       " 'pakistan': -0.47392713314746565,\n",
       " 'questions': -0.4732286395720832,\n",
       " 'times': 0.4730509011782034,\n",
       " 'opinion': -0.47293103690478694,\n",
       " 'launch': -0.47206224276748143,\n",
       " 'detained': 0.4708408690057695,\n",
       " 'foreign': 0.4702845055443132,\n",
       " 'fight': -0.469900766388234,\n",
       " 'upgrades': 0.469326444901526,\n",
       " 'rally': -0.4686048524994736,\n",
       " 'consistency': 0.4667130201475381,\n",
       " 'whether': -0.4660798964984568,\n",
       " 'seeks': 0.46493797028497386,\n",
       " 'plastic': 0.46258452728508437,\n",
       " 'contaminated': 0.4625247095354952,\n",
       " 'standards': 0.4621796655600142,\n",
       " 'earthquake': 0.46184882789384574,\n",
       " 'offering': 0.4607248364776938,\n",
       " 'hind': 0.4606536054983735,\n",
       " 'increased': 0.460124111980048,\n",
       " 'reuters': -0.45963800552750134,\n",
       " 'denounced': -0.4588711571705062,\n",
       " 'pressed': -0.4568284791894257,\n",
       " 'izer': -0.45680000726133585,\n",
       " 'third': 0.4567089452839767,\n",
       " 'asia': -0.4558095116819632,\n",
       " 'complains': 0.45477851293981075,\n",
       " 'eworthy': 0.45341243870955494,\n",
       " 'station': -0.4528214225440752,\n",
       " 'survivors': -0.4514362891204655,\n",
       " 'lower': -0.4509016105595777,\n",
       " 'championship': 0.4508448780536474,\n",
       " 'important': -0.45002971991474566,\n",
       " 'grab': -0.4499226971529424,\n",
       " 'part': -0.44922165320521,\n",
       " 'ohio': -0.4463637599400147,\n",
       " 'factory': 0.4454228531313337,\n",
       " 'manufacturing': 0.4446889956682976,\n",
       " 'oracle': -0.4443511096425883,\n",
       " 'basic': -0.44324287649892496,\n",
       " 'animal': 0.44155998214083325,\n",
       " 'human': 0.44088446447591784,\n",
       " 'passed': 0.44017009112951816,\n",
       " 'division': -0.4398668196906025,\n",
       " 'army': -0.43943292971181946,\n",
       " 'containing': 0.4390258977487537,\n",
       " 'following': 0.43894089414998827,\n",
       " 'legislation': 0.4387605598979433,\n",
       " 'music': 0.4378948195469633,\n",
       " 'researchers': 0.43703532022214486,\n",
       " 'forces': 0.4354113535078205,\n",
       " 'rule': -0.4345973731126601,\n",
       " 'second': -0.43344154440037813,\n",
       " 'torn': -0.43215723136414047,\n",
       " 'fourth': -0.43167639798645174,\n",
       " 'insurance': 0.43151948816375807,\n",
       " 'laws': 0.43081450050949055,\n",
       " 'summer': -0.43060233383995067,\n",
       " 'austin': 0.42972935357829556,\n",
       " 'meeting': -0.429559254982244,\n",
       " 'ahoo': -0.4295198488343019,\n",
       " 'least': -0.4281122084707681,\n",
       " 'victory': -0.4278038402196086,\n",
       " 'ability': -0.42667451365125686,\n",
       " 'target': -0.42602446178705583,\n",
       " 'citizen': 0.42532724674846856,\n",
       " 'ogen': 0.42524247385087144,\n",
       " 'problems': -0.42482301094189323,\n",
       " 'members': -0.42406343292958926,\n",
       " 'every': -0.42396508890546936,\n",
       " 'tech': -0.42375897891633896,\n",
       " 'city': 0.4234733594283488,\n",
       " 'controlled': 0.42223166783092403,\n",
       " 'push': -0.42118743031107764,\n",
       " 'lead': 0.41952598399395963,\n",
       " 'powder': -0.4191984668344147,\n",
       " 'dollar': 0.4181239074581148,\n",
       " 'sometimes': 0.4178000193779225,\n",
       " 'rebuild': -0.4167443445650861,\n",
       " 'hazards': -0.4161874465817265,\n",
       " 'labour': -0.4158304783923086,\n",
       " 'assets': 0.41535144590307027,\n",
       " 'roger': 0.41502436849987134,\n",
       " 'nasa': -0.4144989474443719,\n",
       " 'ingredients': -0.4129808689286409,\n",
       " 'study': -0.41293364665833804,\n",
       " 'claiming': -0.4124766509191813,\n",
       " 'drink': 0.411966354929533,\n",
       " 'dutch': -0.4118461739999475,\n",
       " 'diarrhea': 0.4118202954087596,\n",
       " 'milk': -0.4104536829060199,\n",
       " 'hong': -0.4104458715003501,\n",
       " 'olive': -0.40985316305256164,\n",
       " 'spot': -0.40861447724823813,\n",
       " 'unit': -0.40852540526335235,\n",
       " 'benjamin': 0.4079567863373086,\n",
       " 'storm': 0.4079472761500809,\n",
       " 'militants': -0.40750065471037994,\n",
       " 'radio': 0.4070611923521181,\n",
       " 'latest': -0.4068901102578279,\n",
       " 'conservative': 0.40624312445288524,\n",
       " 'ister': 0.406068949116927,\n",
       " 'morning': 0.40547017946282277,\n",
       " 'nearly': -0.4044021554879715,\n",
       " 'complicated': 0.4043633006513119,\n",
       " 'landmark': 0.40415994200157,\n",
       " 'like': -0.4040898178386703,\n",
       " 'eating': 0.40362058833295755,\n",
       " 'religious': 0.40346505073830485,\n",
       " 'always': 0.40326372340558275,\n",
       " 'commissioner': 0.40318354249203536,\n",
       " 'hitting': -0.4031021688133478,\n",
       " 'centers': 0.4027651161034638,\n",
       " 'euro': -0.4027536329633668,\n",
       " 'includes': -0.4024758545160327,\n",
       " 'bankrupt': -0.4020413722319063,\n",
       " 'unmanned': -0.400175916031003,\n",
       " 'states': 0.4000252447577339,\n",
       " 'hurricanes': 0.39989876008864184,\n",
       " 'sized': -0.3992880877108672,\n",
       " 'click': 0.3992207016389776,\n",
       " 'kansas': 0.39859142164544514,\n",
       " 'browser': -0.3983567515388131,\n",
       " 'crucial': 0.39830960544802546,\n",
       " 'release': -0.3979030219427118,\n",
       " 'officials': 0.3973192998440972,\n",
       " 'become': -0.3969058100014984,\n",
       " 'ceremony': -0.3961976359099416,\n",
       " 'bench': -0.3961713668055988,\n",
       " 'easier': 0.39563285812792515,\n",
       " 'affected': 0.3950231119275786,\n",
       " 'campaign': -0.39439834397328216,\n",
       " 'feel': -0.39309026305430944,\n",
       " 'cutting': -0.3921644770037565,\n",
       " 'swimming': -0.3920545219826955,\n",
       " 'teams': -0.39193070320079865,\n",
       " 'voting': 0.3918995388290374,\n",
       " 'cream': 0.39153061344122025,\n",
       " 'priority': 0.3914296944941825,\n",
       " 'detroit': 0.39089586603222415,\n",
       " 'york': 0.3908098610627174,\n",
       " 'outbreaks': 0.389806561522091,\n",
       " 'fund': 0.38959221334573996,\n",
       " 'buying': -0.388954350678137,\n",
       " 'immigration': 0.38787671964382753,\n",
       " 'sidd': -0.3876519521465525,\n",
       " 'advocacy': 0.3875243183194997,\n",
       " 'selection': 0.38644566578433165,\n",
       " 'central': 0.38583082894996323,\n",
       " 'troops': 0.38541205705842,\n",
       " 'ancient': -0.38507549256594265,\n",
       " 'retail': 0.38440756444774987,\n",
       " 'nuclear': -0.38400545543741565,\n",
       " 'guidance': -0.38384456204170797,\n",
       " 'ideal': -0.38374557087177347,\n",
       " 'home': -0.3832276063753628,\n",
       " 'getting': -0.3824007439718584,\n",
       " 'suit': -0.3819237789115565,\n",
       " 'exceeding': -0.3801373535534367,\n",
       " 'piece': 0.3788595275988843,\n",
       " 'outlets': -0.37799954387040413,\n",
       " 'laboratories': 0.37761296731205923,\n",
       " 'looking': -0.3765255969450392,\n",
       " 'soft': -0.3761387224701984,\n",
       " 'marked': 0.3758949789711417,\n",
       " 'suspected': -0.3757796945457808,\n",
       " 'sanctions': 0.3757075513729786,\n",
       " 'butter': 0.3756014068847244,\n",
       " 'shares': 0.37533223527440884,\n",
       " 'america': 0.37396374454147563,\n",
       " 'items': -0.3738358151501298,\n",
       " 'percent': 0.37352248959385614,\n",
       " 'grain': 0.3734447478837799,\n",
       " 'confisc': 0.37303678107370314,\n",
       " 'programme': -0.37216698964130224,\n",
       " 'coast': -0.37156469622035404,\n",
       " 'ages': 0.371315138429689,\n",
       " 'released': 0.37121553340373253,\n",
       " 'holiday': 0.3706765939517377,\n",
       " 'marriage': -0.3701320269610733,\n",
       " 'spam': 0.36992736113024877,\n",
       " 'asted': -0.36984911462059245,\n",
       " 'common': 0.36918616501388224,\n",
       " 'infected': 0.36918546708158245,\n",
       " 'hotel': -0.3689854923868552,\n",
       " 'department': 0.3683536911472184,\n",
       " 'messaging': -0.3682939149439335,\n",
       " 'california': 0.3662135264852342,\n",
       " 'using': 0.3659750990178802,\n",
       " 'system': -0.36551520757706335,\n",
       " 'debate': -0.36521325446665287,\n",
       " 'louisville': -0.3647243633167818,\n",
       " 'units': -0.36471613946503967,\n",
       " 'leadership': 0.36385805967078294,\n",
       " 'possible': -0.363783214847315,\n",
       " 'institute': -0.3633935063049077,\n",
       " 'spain': -0.36294125017154333,\n",
       " 'business': -0.36260552832475557,\n",
       " 'several': 0.36254673468375626,\n",
       " 'career': -0.3622824519006187,\n",
       " 'board': -0.3617692402846588,\n",
       " 'italian': -0.3611434418704901,\n",
       " 'school': 0.3609935699348793,\n",
       " 'schools': 0.3603866494425617,\n",
       " 'infections': 0.3595137190891721,\n",
       " 'help': -0.3589571765270775,\n",
       " 'ondon': -0.35838641253455233,\n",
       " 'perfume': 0.35813209749176167,\n",
       " 'manic': 0.35764803997396183,\n",
       " 'sign': 0.35744114771923274,\n",
       " 'trooper': 0.35691835440229625,\n",
       " 'personal': -0.3569177123876262,\n",
       " 'quarterback': 0.35620384677895345,\n",
       " 'medicines': 0.35600894559474977,\n",
       " 'indiana': 0.3558814890350082,\n",
       " 'virtually': 0.35548635494834957,\n",
       " 'respective': -0.3542983708292013,\n",
       " 'spect': -0.35387208829978406,\n",
       " 'provide': -0.35265438274660227,\n",
       " 'capital': 0.35246228130132884,\n",
       " 'infection': 0.3516374048887683,\n",
       " 'minnesota': 0.3511793263930532,\n",
       " 'paper': -0.3507423421858277,\n",
       " 'begin': -0.3504265738659143,\n",
       " 'life': 0.3497003300371847,\n",
       " 'economics': -0.34964442980708554,\n",
       " 'chinese': -0.34840673883276035,\n",
       " 'working': -0.3475332854162637,\n",
       " 'drop': -0.3473287342083402,\n",
       " 'ulnerable': 0.34708032198250294,\n",
       " 'abstract': -0.3461963904361861,\n",
       " 'killed': -0.3461765555482323,\n",
       " 'photoshop': -0.3444590922445059,\n",
       " 'known': -0.3440357633832182,\n",
       " 'samples': 0.3440308009464396,\n",
       " 'businesses': 0.34387640776210604,\n",
       " 'putin': 0.34349592914804816,\n",
       " 'local': 0.3428394687098971,\n",
       " 'battling': -0.3427102585264947,\n",
       " 'meanwhile': -0.3424083832491373,\n",
       " 'technologies': 0.34231204903624446,\n",
       " 'frog': -0.3420836776611395,\n",
       " 'madrid': -0.3419176751000729,\n",
       " 'composition': -0.34187037266868475,\n",
       " 'demanded': 0.341638443399071,\n",
       " 'ensure': -0.3416114077030827,\n",
       " 'china': 0.3412436030422684,\n",
       " 'people': 0.34113165094265363,\n",
       " 'largest': -0.34101245831435356,\n",
       " 'mixed': -0.34044969331829633,\n",
       " 'still': -0.34013804256520885,\n",
       " 'months': 0.3392201957593547,\n",
       " 'county': -0.33901597981452786,\n",
       " 'intelligence': 0.338717751364628,\n",
       " 'happening': -0.33851109140186,\n",
       " 'poultry': 0.33851016260176986,\n",
       " 'slight': -0.3383045330410823,\n",
       " 'education': 0.33769513209159063,\n",
       " 'allegedly': -0.3376356656842023,\n",
       " 'streets': -0.3375841262276138,\n",
       " 'another': -0.33747059984112376,\n",
       " 'lucky': -0.33721261884784326,\n",
       " 'services': -0.3370528580467334,\n",
       " 'meat': 0.3368207250584334,\n",
       " 'chicken': 0.3364307852881858,\n",
       " 'finals': -0.3358744565048255,\n",
       " 'data': 0.3355422331863635,\n",
       " 'referendum': 0.3346392953535542,\n",
       " 'ivory': -0.334577141344198,\n",
       " 'present': -0.33415158635502423,\n",
       " 'pain': -0.33399899430380037,\n",
       " 'bangladesh': -0.3336519758759844,\n",
       " 'hassan': -0.33305302905500866,\n",
       " 'society': -0.33216918937192264,\n",
       " 'significant': 0.331620076314656,\n",
       " 'profits': 0.3310462876132482,\n",
       " 'need': -0.3307795190896134,\n",
       " 'mark': -0.3304188484763289,\n",
       " 'journalist': -0.3301850844436558,\n",
       " 'enter': -0.3301345687312128,\n",
       " 'various': 0.32979902318546533,\n",
       " 'gains': -0.32851819855277425,\n",
       " 'seven': -0.3281026612059352,\n",
       " 'facility': 0.3277736951577226,\n",
       " 'kept': -0.32774890082095504,\n",
       " 'since': -0.3275140315589037,\n",
       " 'cyrus': -0.3270516427233815,\n",
       " 'henry': -0.32630998431176167,\n",
       " 'decided': -0.3258538466277288,\n",
       " 'istent': -0.3256960869766772,\n",
       " 'substitutes': -0.32562367930746916,\n",
       " 'spreading': -0.32450306322425604,\n",
       " 'guardian': 0.3242606268613599,\n",
       " 'along': -0.3241916533111329,\n",
       " 'weekend': 0.3234868410387392,\n",
       " 'plan': -0.3215648251810099,\n",
       " 'seafood': 0.321161166993315,\n",
       " 'regulations': 0.320467740006928,\n",
       " 'borne': 0.3202017856542481,\n",
       " 'vintage': -0.31937448895769194,\n",
       " 'ending': -0.3193293184290115,\n",
       " 'charl': -0.31885218335082754,\n",
       " 'raft': 0.3183210661457408,\n",
       " 'igroup': -0.31787836377043277,\n",
       " 'dish': -0.31779465547170416,\n",
       " 'born': -0.31757091523180825,\n",
       " 'gold': -0.3172147531360283,\n",
       " 'agriculture': 0.3166270113697534,\n",
       " 'russia': 0.3164283211505736,\n",
       " 'revealed': -0.31626241127932,\n",
       " 'filmmaker': -0.3154266815399751,\n",
       " 'examples': -0.31520503636501296,\n",
       " 'eight': -0.314893214441337,\n",
       " 'memory': -0.3142332011484541,\n",
       " 'insurgent': -0.3135081880027428,\n",
       " 'content': 0.3130498775800403,\n",
       " 'send': -0.3130176851695713,\n",
       " 'fish': 0.312627083701873,\n",
       " 'indicted': 0.3115333430469036,\n",
       " 'promised': -0.31138002275120463,\n",
       " 'anas': -0.3113425276485358,\n",
       " 'venture': -0.31095025684552813,\n",
       " 'francisco': -0.310922404067796,\n",
       " 'test': -0.3107533772870859,\n",
       " 'classical': -0.3105298395483607,\n",
       " 'bold': -0.31027301863235024,\n",
       " 'threatened': 0.30967011205696815,\n",
       " 'greg': 0.30790524003095926,\n",
       " 'coke': -0.30739089008420706,\n",
       " 'results': 0.30719509389641064,\n",
       " 'bombs': 0.30676434305496514,\n",
       " 'adequate': -0.30676433564683614,\n",
       " 'estate': -0.30649084899610335,\n",
       " 'monitoring': -0.3064035642871795,\n",
       " 'control': 0.3057522849054643,\n",
       " 'ricane': -0.3055288543858166,\n",
       " 'millionaire': 0.3045075243571773,\n",
       " 'ederal': -0.30434774697269457,\n",
       " 'elections': 0.3034395411765824,\n",
       " 'small': -0.30316082721730786,\n",
       " 'ahead': -0.3030812348791718,\n",
       " 'tamil': -0.30283216927200557,\n",
       " 'withdrawal': 0.3026937505353066,\n",
       " 'intensify': -0.3023302252852143,\n",
       " 'protection': -0.30224324224261545,\n",
       " 'eater': -0.30214404151774943,\n",
       " 'strapped': -0.30180657585151494,\n",
       " 'spective': -0.3017414580487336,\n",
       " 'fore': -0.30159892921918824,\n",
       " 'lines': -0.3011871915237431,\n",
       " 'organisation': -0.3007521820642675,\n",
       " 'batches': 0.3005129991391851,\n",
       " 'decide': -0.30018752498594536,\n",
       " 'pond': 0.2991695278491006,\n",
       " 'bureau': -0.29915458608945344,\n",
       " 'htar': -0.2991065757814795,\n",
       " 'michigan': 0.2988619236827593,\n",
       " 'kick': 0.2983320933417417,\n",
       " 'overrun': -0.2981071644462645,\n",
       " 'constitutional': -0.2975638747896354,\n",
       " 'pharmaceutical': 0.2973474171885755,\n",
       " 'midnight': 0.29688465467291986,\n",
       " 'risks': 0.296881949655573,\n",
       " 'transferred': 0.2968508636992276,\n",
       " 'colleague': -0.2968093231320381,\n",
       " 'rest': -0.2961313131385906,\n",
       " 'medicare': 0.2957802314485889,\n",
       " 'scandals': 0.29568509349372196,\n",
       " 'miners': -0.29524069279432297,\n",
       " 'code': 0.294989640933221,\n",
       " 'identify': 0.29495655847474267,\n",
       " 'certain': 0.29487624077306335,\n",
       " 'animated': 0.2940950497868471,\n",
       " 'glasgow': -0.2935359012335539,\n",
       " 'beijing': -0.29347080849758767,\n",
       " 'trading': 0.2934239867439708,\n",
       " 'think': 0.2934102143671683,\n",
       " 'ongoing': 0.2933503954582916,\n",
       " 'evolved': -0.29325700821354983,\n",
       " 'driving': 0.29270379023044424,\n",
       " 'ination': -0.2924268638854486,\n",
       " 'plants': -0.2920271768304543,\n",
       " 'diplomacy': 0.29154384654248133,\n",
       " 'consumption': 0.29082915306229945,\n",
       " 'council': -0.2907995738657885,\n",
       " 'younger': -0.29065227166835966,\n",
       " 'electricity': 0.29042121031347456,\n",
       " 'inexpensive': 0.2903971644118428,\n",
       " 'chocolate': 0.2901583255432475,\n",
       " 'production': 0.2901561030168694,\n",
       " 'imbabwe': -0.29015191923826933,\n",
       " 'network': -0.28959237824169715,\n",
       " 'factors': 0.28932730200088025,\n",
       " 'ville': -0.2890624014932352,\n",
       " 'cell': -0.2889750609685445,\n",
       " 'erad': 0.28897401882568374,\n",
       " 'based': -0.2886583917326277,\n",
       " 'star': 0.2885430139446502,\n",
       " 'warming': -0.2876887580922244,\n",
       " 'plans': -0.28761335768266455,\n",
       " 'opening': -0.28749818399957483,\n",
       " 'offered': -0.2874853973069577,\n",
       " 'vomiting': 0.2874278125101429,\n",
       " 'allocated': -0.2867501049731867,\n",
       " 'treatment': 0.28665425299571085,\n",
       " 'ubiquitous': -0.28656473895922924,\n",
       " 'restitution': 0.286383452010341,\n",
       " 'trying': 0.2858023015671982,\n",
       " 'violations': 0.2857256126615235,\n",
       " 'divide': -0.28554258045873404,\n",
       " 'swelling': -0.28542768033503585,\n",
       " 'acquire': -0.2852865487880888,\n",
       " 'starting': -0.2846970122930417,\n",
       " 'impose': -0.28433526586888597,\n",
       " 'votes': 0.2835152575862594,\n",
       " 'worms': -0.2832412146699267,\n",
       " 'poisoning': 0.2831195056930632,\n",
       " 'supervision': -0.28261365856211734,\n",
       " 'immediately': -0.2823698451149751,\n",
       " 'graded': 0.2822104207938537,\n",
       " 'ising': -0.2821710976351044,\n",
       " 'egypt': -0.28168481703614817,\n",
       " 'mckenzie': -0.2802700063912198,\n",
       " 'laurent': -0.28022707280927406,\n",
       " 'find': 0.2794974786101754,\n",
       " 'countries': 0.27945079258701505,\n",
       " 'beating': -0.27920977177564055,\n",
       " 'files': -0.2790911902557127,\n",
       " 'days': -0.27908617168237737,\n",
       " 'paid': -0.2790712977743364,\n",
       " 'naval': 0.2787051727063954,\n",
       " 'charged': 0.27863991239576746,\n",
       " 'agreed': -0.2785483869774984,\n",
       " 'download': -0.27801747839590407,\n",
       " 'scenes': -0.27795304940082133,\n",
       " 'lett': -0.27794925348134714,\n",
       " 'leaves': 0.2776316886190146,\n",
       " 'mosque': 0.27759963902644813,\n",
       " 'trend': -0.27756664436814915,\n",
       " 'analysts': 0.2774882207023135,\n",
       " 'studios': 0.2773624485707842,\n",
       " 'cultural': 0.27731405637071777,\n",
       " 'breaking': 0.27728691094529423,\n",
       " 'performance': -0.2770247748967078,\n",
       " 'without': 0.276589025619957,\n",
       " 'gest': 0.27655918155020726,\n",
       " 'adds': -0.2758634992129377,\n",
       " 'regime': -0.27566572990460214,\n",
       " 'solving': -0.27562968251558295,\n",
       " 'starts': -0.2752557226146261,\n",
       " 'rates': -0.2751394966371162,\n",
       " 'injury': 0.27497815018573607,\n",
       " 'inside': -0.27465989828932824,\n",
       " 'scotch': -0.2740485794492997,\n",
       " 'however': 0.2740032646060786,\n",
       " 'bare': -0.27383511322380344,\n",
       " 'ward': 0.27368525305064395,\n",
       " 'event': -0.2735722683618933,\n",
       " 'seats': -0.27338623034302145,\n",
       " 'fraudulent': 0.2730504989934709,\n",
       " 'park': 0.27204927652598954,\n",
       " 'policies': 0.27204112332652436,\n",
       " 'ition': 0.2720172027281175,\n",
       " 'north': -0.27162992604474523,\n",
       " 'surface': -0.2715358328402679,\n",
       " 'carly': -0.2714543556794524,\n",
       " 'upon': 0.2712132865597701,\n",
       " 'implicated': 0.2710550183820394,\n",
       " 'ized': -0.27101496163985145,\n",
       " 'ided': -0.2709397003727241,\n",
       " 'setback': -0.2708349129301496,\n",
       " 'retailers': 0.270484277645593,\n",
       " 'biggest': -0.27047953101416095,\n",
       " 'spending': -0.27030741077944204,\n",
       " 'growing': 0.2702958183733274,\n",
       " 'cost': -0.27011710961986285,\n",
       " 'received': 0.2692545286306331,\n",
       " 'thrown': 0.26897344166921117,\n",
       " 'announced': 0.26809908410129724,\n",
       " 'michael': 0.26742564481458,\n",
       " 'person': 0.26699818445921397,\n",
       " 'economy': 0.2667381683507318,\n",
       " 'sports': -0.2663549225544557,\n",
       " 'dean': -0.26596582974889316,\n",
       " 'august': -0.2656775522681481,\n",
       " 'juice': -0.2656537152738089,\n",
       " 'rounded': -0.2651983822967547,\n",
       " 'auto': 0.26519189891405404,\n",
       " 'ating': -0.2650990253242686,\n",
       " 'anes': -0.26477340515702963,\n",
       " 'knows': 0.2646513359614916,\n",
       " 'resources': -0.26458631772111846,\n",
       " 'azine': 0.264194440713618,\n",
       " 'case': 0.26392802061028553,\n",
       " 'sugars': 0.2638338991344109,\n",
       " 'commission': -0.2636490502450159,\n",
       " 'side': -0.2635976601290202,\n",
       " 'available': 0.2635880920797223,\n",
       " 'enemies': -0.2633909400707732,\n",
       " 'grad': -0.2633679369482156,\n",
       " 'province': -0.26283315138621055,\n",
       " 'ables': 0.2623985338886061,\n",
       " 'retirees': -0.26232068659737706,\n",
       " 'prices': 0.2622749706430462,\n",
       " 'train': -0.2620868256564754,\n",
       " 'response': -0.2619206929251273,\n",
       " 'demand': -0.26187870095391685,\n",
       " 'interview': -0.2617726586333596,\n",
       " 'castle': -0.2616638931212947,\n",
       " 'vernon': -0.26148010027827695,\n",
       " 'something': -0.261446524493304,\n",
       " 'witnessed': 0.2612748056417331,\n",
       " 'mike': 0.26082248939201236,\n",
       " 'posted': 0.26067889637703245,\n",
       " 'trends': -0.2606625286688301,\n",
       " 'hague': 0.26051088427178093,\n",
       " 'emphasizing': 0.26046938315266743,\n",
       " 'farm': 0.26017031345796043,\n",
       " 'sandra': -0.25990337608913516,\n",
       " 'glob': 0.2597782256584016,\n",
       " 'ents': 0.25910213847424124,\n",
       " 'process': -0.25896232099002414,\n",
       " 'engine': -0.2587179981637746,\n",
       " 'touchdown': -0.2585503212420528,\n",
       " 'space': -0.2585032802786902,\n",
       " 'airs': -0.2584850884741172,\n",
       " 'leave': -0.25841727546261006,\n",
       " 'studies': 0.25835415287175195,\n",
       " 'treated': 0.2579330237328148,\n",
       " 'habitat': 0.2578974022543617,\n",
       " 'history': -0.2578038742036847,\n",
       " 'minds': -0.2575251484522596,\n",
       " 'cause': 0.25734338956296754,\n",
       " 'fans': -0.2572900294714297,\n",
       " 'seeking': -0.2571222342785232,\n",
       " 'igning': -0.25709985739861924,\n",
       " 'stem': -0.25694442621897906,\n",
       " 'rate': 0.25687623410316063,\n",
       " 'rental': 0.2568243145942688,\n",
       " 'night': -0.2568108560713171,\n",
       " 'ping': -0.2567309805457719,\n",
       " 'elect': 0.2562372541675965,\n",
       " 'etooth': -0.25609141192398965,\n",
       " 'budget': 0.25594058440499856,\n",
       " 'selling': -0.25588161834428375,\n",
       " 'anut': 0.25585869660814303,\n",
       " 'industry': 0.2555204654588482,\n",
       " 'record': 0.2554782436323782,\n",
       " 'zealand': 0.25529505640552963,\n",
       " 'southeast': -0.25529290292373236,\n",
       " 'show': 0.25509162902256377,\n",
       " 'movie': 0.2550482204455572,\n",
       " 'completed': 0.25493026163894683,\n",
       " 'indian': 0.254687151678478,\n",
       " 'extended': -0.2545258727266112,\n",
       " 'left': -0.25449789815889273,\n",
       " 'soldiers': -0.2540983460571927,\n",
       " 'raid': -0.25386595732912254,\n",
       " 'fine': -0.25354629933634504,\n",
       " 'cincinnati': -0.25315664761001244,\n",
       " 'brother': -0.2529172041940976,\n",
       " 'acknowledged': -0.25286343752911006,\n",
       " 'wretched': -0.2527641071937978,\n",
       " 'northeastern': -0.252755014957594,\n",
       " 'brawl': -0.25273521058261395,\n",
       " 'actions': -0.25266357517247784,\n",
       " 'azerbaijan': 0.2525453232228756,\n",
       " 'curry': 0.25244584066163633,\n",
       " 'mourinho': 0.2524284776300192,\n",
       " 'mayor': 0.252412926851927,\n",
       " 'ication': -0.2522989306792927,\n",
       " 'weapons': 0.2522292334390638,\n",
       " 'islamist': 0.2521687593543902,\n",
       " 'practices': 0.251766531686659,\n",
       " 'broncos': 0.25175189453875646,\n",
       " 'beef': 0.2517195223157962,\n",
       " 'file': -0.2514017055071669,\n",
       " 'minute': -0.25127088153038196,\n",
       " 'essential': -0.25114087267575613,\n",
       " 'best': -0.2506125124782759,\n",
       " 'newcastle': -0.25037729277530507,\n",
       " 'match': -0.25016547503899395,\n",
       " 'dissent': -0.2498588171438314,\n",
       " 'ians': -0.2496722756680654,\n",
       " 'ircraft': -0.24961879112136862,\n",
       " 'carried': 0.2495869843612128,\n",
       " 'coli': 0.24917043232340827,\n",
       " 'license': 0.2487467815324121,\n",
       " 'counterpart': -0.2487080154241994,\n",
       " 'returned': -0.24861275400584174,\n",
       " 'ribune': 0.24853870747610926,\n",
       " 'steven': -0.24844787802754176,\n",
       " 'similar': 0.24803011481836867,\n",
       " 'sampling': 0.24744223042343697,\n",
       " 'synthesis': -0.2473610664407412,\n",
       " 'infrared': -0.2473415690183174,\n",
       " 'internal': -0.24676794146906836,\n",
       " 'indust': 0.2467005946468014,\n",
       " 'demanding': -0.2465529470004996,\n",
       " 'ions': -0.24641412041851676,\n",
       " 'monday': 0.2464010576072807,\n",
       " 'recently': -0.24628346611180102,\n",
       " 'broadcasting': -0.24611907104069058,\n",
       " 'agencies': 0.24608116080995185,\n",
       " 'prevention': 0.24600578023338682,\n",
       " 'live': 0.2459009963429078,\n",
       " 'guarantee': -0.24585781572386622,\n",
       " 'used': 0.24558940023973808,\n",
       " 'although': 0.24525593391462472,\n",
       " 'development': -0.24523788294408633,\n",
       " 'orbit': -0.24491175174868354,\n",
       " 'holding': 0.24485970158131076,\n",
       " 'takes': 0.24449022077456853,\n",
       " 'make': -0.2442838455677052,\n",
       " 'compliance': -0.2441228180648611,\n",
       " 'globally': 0.24406004051482194,\n",
       " 'privat': -0.24403735537392396,\n",
       " 'soup': -0.24394022849608316,\n",
       " 'gaza': -0.24388416181318462,\n",
       " 'branch': -0.24385762313512035,\n",
       " 'terrorist': -0.24368081364082173,\n",
       " 'vaccination': 0.2435820300773965,\n",
       " 'hour': 0.24318492598222885,\n",
       " 'potentially': -0.24311875140014602,\n",
       " 'general': -0.24292120563434869,\n",
       " 'district': -0.24284878033718238,\n",
       " 'carcin': 0.24280586317128672,\n",
       " 'security': -0.24271181844494372,\n",
       " 'goods': 0.2426770327602351,\n",
       " 'project': -0.24220254460753682,\n",
       " 'jump': -0.2421951200813055,\n",
       " 'ball': 0.24213595026148724,\n",
       " 'version': -0.24211867577741725,\n",
       " 'produced': -0.24177670118125574,\n",
       " 'widespread': -0.24173012125843893,\n",
       " 'behind': -0.24171124406088623,\n",
       " 'overall': 0.24157847940968669,\n",
       " 'hepatitis': 0.24150333389417833,\n",
       " 'placement': -0.24110138148535043,\n",
       " 'david': -0.24072867954470986,\n",
       " 'consume': 0.24033596492928772,\n",
       " 'pasadena': 0.24033371830591932,\n",
       " 'humans': 0.2400161772188493,\n",
       " 'conditions': 0.23985634248681426,\n",
       " 'extrater': 0.2395647746355583,\n",
       " 'probably': -0.23916678814112446,\n",
       " 'criticism': 0.23897672182410756,\n",
       " 'administrators': -0.23892605147557333,\n",
       " 'import': 0.23853559809481925,\n",
       " 'certification': 0.23817582897450862,\n",
       " 'iraqi': -0.2378438285086304,\n",
       " 'printing': -0.23710257257334888,\n",
       " 'much': -0.2370400102836126,\n",
       " 'fitting': -0.23697544404707266,\n",
       " 'posting': 0.23687256890623756,\n",
       " 'rooms': -0.2368676000165935,\n",
       " 'core': 0.23646147744101131,\n",
       " 'excellent': 0.235772259548348,\n",
       " 'wilson': -0.23554540312034078,\n",
       " 'fruit': 0.2353889003900986,\n",
       " 'presence': -0.23536465183417463,\n",
       " 'milestone': -0.23475368914660066,\n",
       " 'raided': 0.2347496729177822,\n",
       " 'software': -0.234742997794669,\n",
       " 'whale': -0.23461390694137663,\n",
       " 'bledon': -0.23458708461839706,\n",
       " 'varying': -0.23442922687691076,\n",
       " 'sights': -0.23424810729920864,\n",
       " 'hill': 0.2341988915226437,\n",
       " 'faces': -0.23388578065039056,\n",
       " 'islamic': 0.23378933290950954,\n",
       " 'dubai': 0.2336108732270077,\n",
       " 'cand': 0.23355314110011396,\n",
       " 'attle': -0.23351532013233128,\n",
       " 'enforcement': 0.23289390811855887,\n",
       " 'associated': 0.232887153105999,\n",
       " 'toxic': -0.23277033304001873,\n",
       " 'athing': -0.23228912451304495,\n",
       " 'icon': 0.23221152279696142,\n",
       " 'aining': -0.23220327042603284,\n",
       " 'greek': -0.2321626926560632,\n",
       " 'nationwide': 0.23181829365050596,\n",
       " 'early': -0.2316602742636782,\n",
       " 'formula': 0.2314023591631182,\n",
       " 'dream': -0.23127429152373224,\n",
       " 'destroyed': 0.2312179951399365,\n",
       " 'airlines': 0.23069056670647115,\n",
       " 'semif': -0.2306612345855683,\n",
       " 'hardware': 0.2306509092450142,\n",
       " 'customers': 0.23064946097864117,\n",
       " 'late': 0.23060679984063098,\n",
       " 'read': -0.2305575420431809,\n",
       " 'sweet': 0.23043414902085568,\n",
       " 'finding': 0.22994964302637233,\n",
       " 'pork': 0.22945303446587978,\n",
       " 'outside': -0.22937627562059054,\n",
       " 'regulators': -0.22886855616056526,\n",
       " 'martha': -0.22863563027931377,\n",
       " 'must': 0.22845482954603727,\n",
       " 'pentagon': 0.22840015310794115,\n",
       " 'graphics': -0.22839595610275865,\n",
       " 'swept': -0.22801390424137935,\n",
       " 'pledged': 0.22798378842284525,\n",
       " 'icity': -0.22773947344977977,\n",
       " 'flavor': 0.22750164314539167,\n",
       " 'aspects': 0.2274883873070845,\n",
       " 'mainstream': -0.22740859701298177,\n",
       " 'duke': -0.22735630243550986,\n",
       " 'nuggets': -0.22728493728209287,\n",
       " 'ling': -0.22696972030421925,\n",
       " 'right': -0.22663067553199784,\n",
       " 'ifling': -0.22662562888581306,\n",
       " 'area': -0.22659803977261506,\n",
       " 'patent': 0.22630224805325272,\n",
       " 'filing': -0.2259669540663405,\n",
       " 'required': 0.2259481996105531,\n",
       " 'discussion': -0.22575499600208032,\n",
       " 'umbai': -0.22534732611384242,\n",
       " 'observatory': -0.22532915458432398,\n",
       " 'rose': -0.22515813014596142,\n",
       " 'anything': -0.22495435481514073,\n",
       " 'kind': -0.22462533592326128,\n",
       " 'sending': -0.2245973740829728,\n",
       " 'hurdles': -0.22434820358951887,\n",
       " 'aggressively': 0.22433874684973576,\n",
       " 'stranger': -0.2242819301900454,\n",
       " 'regulatory': 0.2242793796163715,\n",
       " 'theme': -0.22391324463642687,\n",
       " 'toll': -0.22355398140811586,\n",
       " 'juices': -0.22346954979093123,\n",
       " 'distributed': 0.22343315558129606,\n",
       " 'collapses': 0.2233825488947332,\n",
       " 'russian': 0.2232757862389868,\n",
       " 'label': 0.2231644243628192,\n",
       " 'platforms': -0.22272787355939813,\n",
       " 'intensified': -0.22254258802187485,\n",
       " 'shaun': -0.2222952967470822,\n",
       " 'princess': -0.2222282569273375,\n",
       " 'providers': 0.22221247119974194,\n",
       " 'soda': 0.22190948342904449,\n",
       " 'effort': -0.2219015703342266,\n",
       " 'transport': 0.22184419531058874,\n",
       " 'usually': 0.22168131792007548,\n",
       " ...}"
      ]
     },
     "execution_count": 182,
     "metadata": {},
     "output_type": "execute_result"
    }
   ],
   "source": [
    "sorted_d_pos"
   ]
  },
  {
   "cell_type": "code",
   "execution_count": 183,
   "metadata": {},
   "outputs": [],
   "source": [
    "def colors(x):\n",
    "    colorsValue = []\n",
    "    for value in x.values():\n",
    "        if value < 0:\n",
    "            colorsValue.append('darkturquoise')\n",
    "        elif value >= 0:\n",
    "            colorsValue.append('orange')\n",
    "    return colorsValue"
   ]
  },
  {
   "cell_type": "code",
   "execution_count": 184,
   "metadata": {},
   "outputs": [],
   "source": [
    "colors_list = colors(to_plot_pos)"
   ]
  },
  {
   "cell_type": "code",
   "execution_count": 185,
   "metadata": {},
   "outputs": [
    {
     "data": {
      "image/png": "[encoded data removed]",
      "text/plain": [
       "<Figure size 2000x1000 with 1 Axes>"
      ]
     },
     "metadata": {},
     "output_type": "display_data"
    }
   ],
   "source": [
    "# IMPACT ON CLASS 1\n",
    "\n",
    "plt.figure(figsize=(20,10))\n",
    "plt.barh(range(len(to_plot_pos)), list(to_plot_pos.values()), tick_label=list(to_plot_pos.keys()), color = colors_list)\n",
    "plt.xticks(fontsize=17, rotation = 45)\n",
    "plt.yticks(fontsize=17)\n",
    "plt.title('Shap values analysis, impact on class 1', fontsize = 25)\n",
    "plt.ylabel('Token', fontsize = 25)\n",
    "plt.xlabel('Sum of shap values', fontsize = 25)\n",
    "plt.grid(axis = 'x')\n",
    "plt.gca().invert_yaxis()\n",
    "# plt.savefig('/home/cc/rora_tesi_new/log/log_TRC/twitter-roberta-large-2022-154m/bertweet-seq/20_epoch/data/True_weight/42_seed/shap/shap_pred_1.png',bbox_inches='tight')\n",
    "plt.show()"
   ]
  },
  {
   "cell_type": "code",
   "execution_count": 2,
   "metadata": {},
   "outputs": [],
   "source": [
    "# shap.plots.bar(shap_values_loaded[:,:,1].sum(0), order=shap.Explanation.argsort.flip)"
   ]
  },
  {
   "cell_type": "code",
   "execution_count": 21,
   "metadata": {},
   "outputs": [],
   "source": [
    "# PLOT FOR CLASS 0"
   ]
  },
  {
   "cell_type": "code",
   "execution_count": 186,
   "metadata": {},
   "outputs": [],
   "source": [
    "to_del = []\n",
    "for k in sorted_d_neg.keys():\n",
    "    if len(k) <= 3:\n",
    "        to_del.append(k)\n",
    "    if k == '....':\n",
    "        to_del.append(k)"
   ]
  },
  {
   "cell_type": "code",
   "execution_count": 187,
   "metadata": {},
   "outputs": [],
   "source": [
    "for k in to_del:\n",
    "    del sorted_d_neg[k]"
   ]
  },
  {
   "cell_type": "code",
   "execution_count": 188,
   "metadata": {},
   "outputs": [],
   "source": [
    "# remove_keywords(sorted_d_neg)"
   ]
  },
  {
   "cell_type": "code",
   "execution_count": 189,
   "metadata": {},
   "outputs": [],
   "source": [
    "to_plot_neg = get_top_n(20, sorted_d_neg)"
   ]
  },
  {
   "cell_type": "code",
   "execution_count": 190,
   "metadata": {},
   "outputs": [],
   "source": [
    "colors_list = colors(to_plot_neg)"
   ]
  },
  {
   "cell_type": "code",
   "execution_count": 191,
   "metadata": {},
   "outputs": [
    {
     "data": {
      "image/png": "[encoded data removed]",
      "text/plain": [
       "<Figure size 2000x1000 with 1 Axes>"
      ]
     },
     "metadata": {},
     "output_type": "display_data"
    }
   ],
   "source": [
    "# IMPACT ON CLASS 0\n",
    "\n",
    "plt.figure(figsize=(20,10))\n",
    "plt.barh(range(len(to_plot_neg)), list(to_plot_neg.values()), tick_label=list(to_plot_neg.keys()), color = colors_list)\n",
    "plt.xticks(fontsize=17, rotation = 45)\n",
    "plt.yticks(fontsize=17)\n",
    "plt.title('Shap values analysis, impact on class 0', fontsize = 25)\n",
    "plt.ylabel('Token', fontsize = 25)\n",
    "plt.xlabel('Sum of shap values', fontsize = 25)\n",
    "plt.grid(axis = 'x')\n",
    "plt.gca().invert_yaxis()\n",
    "# plt.savefig('/home/cc/rora_tesi_new/log/log_TRC/twitter-roberta-large-2022-154m/bertweet-seq/20_epoch/data/True_weight/42_seed/shap/shap_pred_1.png',bbox_inches='tight')\n",
    "plt.show()"
   ]
  },
  {
   "cell_type": "code",
   "execution_count": 1,
   "metadata": {},
   "outputs": [],
   "source": [
    "# shap.plots.bar(shap_values_loaded[:,:,0].sum(0),  order=shap.Explanation.argsort.flip)"
   ]
  }
 ],
 "metadata": {
  "kernelspec": {
   "display_name": "rora_venv",
   "language": "python",
   "name": "python3"
  },
  "language_info": {
   "codemirror_mode": {
    "name": "ipython",
    "version": 3
   },
   "file_extension": ".py",
   "mimetype": "text/x-python",
   "name": "python",
   "nbconvert_exporter": "python",
   "pygments_lexer": "ipython3",
   "version": "3.8.10"
  },
  "orig_nbformat": 4
 },
 "nbformat": 4,
 "nbformat_minor": 2
}
