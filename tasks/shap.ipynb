{
 "cells": [
  {
   "cell_type": "code",
   "execution_count": 175,
   "metadata": {},
   "outputs": [],
   "source": [
    "import torch\n",
    "from transformers import AutoTokenizer\n",
    "\n",
    "import shap\n",
    "import matplotlib.pyplot as plt\n",
    "\n",
    "from error_analysis_TRC import load_local_model, prepare_data"
   ]
  },
  {
   "cell_type": "code",
   "execution_count": 176,
   "metadata": {},
   "outputs": [],
   "source": [
    "ASSIGN_WEIGHT = True\n",
    "\n",
    "device = torch.device(\"cuda\" if torch.cuda.is_available() else \"cpu\")\n",
    "#device = \"cpu\"\n",
    "model_name = 'roberta-large'\n",
    "\n",
    "model_path = '/home/cc/rora_tesi_new/log/log_TRC/roberta-large/bertweet-seq/20_epoch/data/True_weight/42_seed/saved-model/pytorch_model.bin'\n",
    "config_path = '/home/cc/rora_tesi_new/log/log_TRC/roberta-large/bertweet-seq/20_epoch/data/True_weight/42_seed/saved-model/config.json'"
   ]
  },
  {
   "cell_type": "code",
   "execution_count": 177,
   "metadata": {},
   "outputs": [],
   "source": [
    "train_data_path = '/home/cc/rora_tesi_new/data/train.p'\n",
    "test_data_path = '/home/cc/rora_tesi_new/data/test.p'\n",
    "\n",
    "need_columns = ['tweet','tweet_tokens', 'sentence_class']\n",
    "\n",
    "tweet_test, tweet_tokens_test, binary_test = prepare_data(test_data_path, need_columns)\n",
    "\n",
    "\n"
   ]
  },
  {
   "cell_type": "code",
   "execution_count": 178,
   "metadata": {},
   "outputs": [
    {
     "name": "stderr",
     "output_type": "stream",
     "text": [
      "Some weights of the model checkpoint at roberta-large were not used when initializing RobertaModel: ['roberta.pooler.dense.weight', 'lm_head.decoder.weight', 'roberta.pooler.dense.bias', 'lm_head.dense.weight', 'lm_head.layer_norm.bias', 'lm_head.layer_norm.weight', 'lm_head.bias', 'lm_head.dense.bias']\n",
      "- This IS expected if you are initializing RobertaModel from the checkpoint of a model trained on another task or with another architecture (e.g. initializing a BertForSequenceClassification model from a BertForPreTraining model).\n",
      "- This IS NOT expected if you are initializing RobertaModel from the checkpoint of a model that you expect to be exactly identical (initializing a BertForSequenceClassification model from a BertForSequenceClassification model).\n"
     ]
    }
   ],
   "source": [
    "tokenizer = AutoTokenizer.from_pretrained(model_name, normalization = True)\n",
    "model = load_local_model(model_path, config_path, device, model_name)\n",
    "model = model.to(device)"
   ]
  },
  {
   "cell_type": "code",
   "execution_count": 47,
   "metadata": {},
   "outputs": [
    {
     "name": "stdout",
     "output_type": "stream",
     "text": [
      "['LABEL_0', 'LABEL_1']\n",
      "['0', '1']\n"
     ]
    }
   ],
   "source": [
    "labels = sorted(model.config.label2id, key=model.config.label2id.get)\n",
    "print(labels)\n",
    "labels = [x.split('_')[1] for x in labels]\n",
    "print(labels)"
   ]
  },
  {
   "cell_type": "code",
   "execution_count": 48,
   "metadata": {},
   "outputs": [],
   "source": [
    "torch.cuda.empty_cache()"
   ]
  },
  {
   "cell_type": "code",
   "execution_count": 179,
   "metadata": {},
   "outputs": [],
   "source": [
    "# input della funzione una lista di stringhe\n",
    "\n",
    "def f(x):\n",
    "    # x = [tweet_test[0]]\n",
    "    tv = torch.tensor([tokenizer.encode(v, padding='max_length', max_length=128, truncation=True) for v in x]).to(device)\n",
    "    # print('tv',tv.shape)\n",
    "    attention_mask = (tv!=0).type(torch.int64).to(device)\n",
    "    # print('atte',attention_mask.shape)\n",
    "    model.eval()\n",
    "    with torch.no_grad():\n",
    "        outputs = model(tv, attention_mask, class_weight=None)\n",
    "    # print(outputs)\n",
    "\n",
    "    return outputs['logits']"
   ]
  },
  {
   "cell_type": "code",
   "execution_count": 180,
   "metadata": {},
   "outputs": [
    {
     "data": {
      "text/plain": [
       "tensor([[ 2.2750, -1.6938]], device='cuda:0')"
      ]
     },
     "execution_count": 180,
     "metadata": {},
     "output_type": "execute_result"
    }
   ],
   "source": [
    "f([tweet_test[0]])"
   ]
  },
  {
   "cell_type": "code",
   "execution_count": 196,
   "metadata": {},
   "outputs": [],
   "source": [
    "inputs = []\n",
    "for i in range(3):\n",
    "    inputs.append(tweet_test[i])"
   ]
  },
  {
   "cell_type": "code",
   "execution_count": 205,
   "metadata": {},
   "outputs": [],
   "source": [
    "# explainer = shap.Explainer(f, tokenizer, output_names=labels)\n",
    "explainer = shap.Explainer(f, masker = tokenizer)\n"
   ]
  },
  {
   "cell_type": "code",
   "execution_count": 222,
   "metadata": {},
   "outputs": [
    {
     "name": "stderr",
     "output_type": "stream",
     "text": [
      "Partition explainer: 4it [00:12, 12.14s/it]               \n"
     ]
    }
   ],
   "source": [
    "shap_values = explainer(inputs, fixed_context='auto')"
   ]
  },
  {
   "cell_type": "code",
   "execution_count": 224,
   "metadata": {},
   "outputs": [
    {
     "data": {
      "text/plain": [
       "(35, 2)"
      ]
     },
     "execution_count": 224,
     "metadata": {},
     "output_type": "execute_result"
    }
   ],
   "source": [
    "shap_values[1].shape"
   ]
  },
  {
   "cell_type": "code",
   "execution_count": 135,
   "metadata": {},
   "outputs": [
    {
     "data": {
      "text/plain": [
       "(1, 36)"
      ]
     },
     "execution_count": 135,
     "metadata": {},
     "output_type": "execute_result"
    }
   ],
   "source": [
    "# shap_values = shap_values[:,:,1]\n",
    "# shap_values.shape"
   ]
  },
  {
   "cell_type": "code",
   "execution_count": 291,
   "metadata": {},
   "outputs": [],
   "source": [
    "token_dict = {}\n",
    "def create_token_dict(shap_values):\n",
    "    val = [shap_values[i] for i in range(len(shap_values))]\n",
    "    for el in val:\n",
    "        print(len(el))\n",
    "        for i in range(len(el)-1):\n",
    "            token = el[i].data\n",
    "            print(token)\n",
    "            shap_val = el[i].values\n",
    "            print(shap_val)\n",
    "            # PRENDI SOLO VAL RELATIVO ALLA CLASSE POSITIVA\n",
    "            \n",
    "\n",
    "\n",
    "        #     print(el[2].data)\n",
    "    # for i in range(len(val)):\n",
    "    #     for j in range(len(val[i])):\n",
    "    #         print(len(val[i]))\n",
    "    #         token = val[i][j].data\n",
    "    #         shap_val = val[i][j].values # o base_values(?)\n",
    " \n",
    "\n",
    "    "
   ]
  },
  {
   "cell_type": "code",
   "execution_count": 292,
   "metadata": {},
   "outputs": [
    {
     "name": "stdout",
     "output_type": "stream",
     "text": [
      "36\n",
      "\n",
      "[0.00145717 0.01416494]\n",
      "@\n",
      "[-0.00251058  0.04691639]\n",
      "USER \n",
      "[0.08877708 0.02315067]\n",
      "As \n",
      "[ 0.05308496 -0.09387807]\n",
      "much \n",
      "[-0.01089428 -0.0310842 ]\n",
      "fun \n",
      "[-0.01816168 -0.01006266]\n",
      "as \n",
      "[ 0.03734574 -0.11165352]\n",
      "I \n",
      "[ 0.03692127 -0.12042355]\n",
      "can\n",
      "[ 0.01365735 -0.08294893]\n",
      ". \n",
      "[-0.01689965  0.07898657]\n",
      "W\n",
      "[0.01287355 0.00164551]\n",
      "oke \n",
      "[-0.10855906  0.01524628]\n",
      "up \n",
      "[0.03105543 0.0053357 ]\n",
      "with \n",
      "[ 0.01129034 -0.00757627]\n",
      "food \n",
      "[-0.00262544  0.03018734]\n",
      "poisoning \n",
      "[-0.05129     0.06250672]\n",
      "or \n",
      "[-0.03354081 -0.05245386]\n",
      "stomach \n",
      "[ 0.05240827 -0.06458882]\n",
      "flu\n",
      "[ 0.01967591 -0.05694508]\n",
      ". \n",
      "[-0.11360688  0.20489133]\n",
      "Been \n",
      "[ 0.18648604 -0.20418173]\n",
      "bu\n",
      "[ 0.14245972 -0.18317575]\n",
      "gging \n",
      "[-0.0104402  -0.07844028]\n",
      "me \n",
      "[ 0.01823413 -0.02772333]\n",
      "all \n",
      "[ 0.03695048 -0.02621751]\n",
      "day \n",
      "[0.00330932 0.05794763]\n",
      "#\n",
      "[-0.0702105  -0.01289343]\n",
      "t\n",
      "[-0.0515765  -0.03798272]\n",
      "mi \n",
      "[-0.02463701  0.10290721]\n",
      "Almost \n",
      "[-0.06243826  0.07629271]\n",
      "done \n",
      "[-0.08070795  0.03952647]\n",
      "driving \n",
      "[-0.05781013  0.11399972]\n",
      "for \n",
      "[ 0.02730276 -0.03863738]\n",
      "the \n",
      "[-0.05735347 -0.079631  ]\n",
      "day\n",
      "[ 0.01645147 -0.11532862]\n",
      "35\n",
      "\n",
      "[ 0.00194994 -0.00582381]\n",
      "I \n",
      "[-0.12070085  0.02913598]\n",
      "cant \n",
      "[-0.07259069 -0.07176052]\n",
      "come \n",
      "[-0.01306588 -0.00455002]\n",
      "into \n",
      "[-0.12293114  0.00474277]\n",
      "work \n",
      "[ 0.01729235 -0.0033361 ]\n",
      "today \n",
      "[ 0.00722983 -0.03374593]\n",
      "because \n",
      "[-0.03129684 -0.02897423]\n",
      "I \n",
      "[-0.02022011 -0.00728862]\n",
      "have \n",
      "[0.00864027 0.02060372]\n",
      "food \n",
      "[ 0.34125553 -0.16803265]\n",
      "poisoning\n",
      "[-0.07835681 -0.13670336]\n",
      ". \n",
      "[ 0.44708975 -0.19135869]\n",
      "I \n",
      "[-0.03742671  0.03452043]\n",
      "went \n",
      "[-0.02803461  0.01185127]\n",
      "out \n",
      "[-0.05596892  0.03028481]\n",
      "with \n",
      "[-0.00386832  0.01315213]\n",
      "the \n",
      "[-0.00212892  0.02479783]\n",
      "l\n",
      "[-0.02808267  0.05530316]\n",
      "ads \n",
      "[-0.02555519  0.06776102]\n",
      "last \n",
      "[-0.08572626  0.0585833 ]\n",
      "night \n",
      "[-0.0487957   0.00741654]\n",
      "and \n",
      "[-0.00361186 -0.03287946]\n",
      "we \n",
      "[ 0.09587435 -0.10335648]\n",
      "had \n",
      "[ 0.04433095 -0.12319386]\n",
      "a \n",
      "[-0.02184021  0.04165464]\n",
      "cheap \n",
      "[-0.02184021  0.04165464]\n",
      "curry\n",
      "[-0.00587219 -0.00313213]\n",
      ", \n",
      "[-0.04810981  0.02171913]\n",
      "we \n",
      "[ 0.05574178 -0.02971708]\n",
      "all \n",
      "[ 0.01619573 -0.04888054]\n",
      "ended \n",
      "[-0.01101397  0.02391924]\n",
      "up \n",
      "[-0.06327968  0.09596988]\n",
      "...\n",
      "[0.07989346 0.01032449]\n",
      "32\n",
      "\n",
      "[-0.01246113 -0.0007531 ]\n",
      "I \n",
      "[-0.2859105   0.10920018]\n",
      "think \n",
      "[0.05920874 0.05921971]\n",
      "it \n",
      "[0.00146204 0.08862086]\n",
      "was \n",
      "[0.07763318 0.04795254]\n",
      "that \n",
      "[ 0.15875652 -0.02184967]\n",
      "w\n",
      "[-0.03298617 -0.01910762]\n",
      "affle \n",
      "[-0.08573723 -0.04382541]\n",
      "house \n",
      "[ 0.01027438 -0.02665496]\n",
      "that \n",
      "[-2.94465572e-05 -9.84417200e-02]\n",
      "did \n",
      "[0.04396689 0.05080639]\n",
      "it\n",
      "[-0.04110023 -0.00155241]\n",
      ".. \n",
      "[-0.0478163  -0.01452857]\n",
      "I \n",
      "[ 0.03176485 -0.04326935]\n",
      "need \n",
      "[0.0391325  0.02933959]\n",
      "my \n",
      "[-0.0070895   0.07747177]\n",
      "lawyer \n",
      "[0.08134173 0.04005996]\n",
      "bc\n",
      "[-0.22774819  0.041051  ]\n",
      "uz \n",
      "[ 0.12078673 -0.03636628]\n",
      "if \n",
      "[ 0.06712522 -0.08665231]\n",
      "I \n",
      "[ 0.03983491 -0.05385236]\n",
      "got \n",
      "[-0.27298158  0.11182883]\n",
      "food \n",
      "[-0.17891622  0.15453743]\n",
      "poison \n",
      "[-0.08446373  0.11863034]\n",
      "its \n",
      "[-0.09204826  0.03718017]\n",
      "gonna \n",
      "[ 0.08193368 -0.13643887]\n",
      "be \n",
      "[ 0.10256676 -0.11161539]\n",
      "on \n",
      "[0.01339353 0.08871043]\n",
      "n \n",
      "[0.16992098 0.06620409]\n",
      "crack\n",
      "[ 0.16968977 -0.00072552]\n",
      "n\n",
      "[-0.15021019 -0.03968963]\n"
     ]
    }
   ],
   "source": [
    "create_token_dict(shap_values)"
   ]
  },
  {
   "cell_type": "code",
   "execution_count": 272,
   "metadata": {},
   "outputs": [
    {
     "data": {
      "text/plain": [
       "[(36, 2), (35, 2), (32, 2)]"
      ]
     },
     "execution_count": 272,
     "metadata": {},
     "output_type": "execute_result"
    }
   ],
   "source": [
    "[shap_values[i].values.shape for i in range(len(shap_values))]\n"
   ]
  },
  {
   "cell_type": "code",
   "execution_count": 228,
   "metadata": {},
   "outputs": [
    {
     "data": {
      "image/png": "[encoded data removed]",
      "text/plain": [
       "<Figure size 800x250 with 1 Axes>"
      ]
     },
     "metadata": {},
     "output_type": "display_data"
    }
   ],
   "source": [
    "shap.plots.bar(shap_values.abs.max(0))"
   ]
  },
  {
   "cell_type": "code",
   "execution_count": 232,
   "metadata": {},
   "outputs": [],
   "source": [
    "# per questo grafico prendi solo scores della classe positiva\n",
    "# e solo gli scores di un tweet\n",
    "# shap_values[:,:,1]\n",
    "\n",
    "# input = [tweet_test[3]]\n",
    "# sv = explainer(input)\n",
    "# sv = sv[:,:,1]\n",
    "# shap.plots.waterfall(sv[0], max_display=20)"
   ]
  },
  {
   "cell_type": "code",
   "execution_count": null,
   "metadata": {},
   "outputs": [],
   "source": []
  }
 ],
 "metadata": {
  "kernelspec": {
   "display_name": "rora_venv",
   "language": "python",
   "name": "python3"
  },
  "language_info": {
   "codemirror_mode": {
    "name": "ipython",
    "version": 3
   },
   "file_extension": ".py",
   "mimetype": "text/x-python",
   "name": "python",
   "nbconvert_exporter": "python",
   "pygments_lexer": "ipython3",
   "version": "3.8.10"
  },
  "orig_nbformat": 4
 },
 "nbformat": 4,
 "nbformat_minor": 2
}
