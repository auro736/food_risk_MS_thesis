{
 "cells": [
  {
   "cell_type": "code",
   "execution_count": 1,
   "metadata": {},
   "outputs": [
    {
     "name": "stderr",
     "output_type": "stream",
     "text": [
      "/home/cc/venv/rora_venv/lib/python3.8/site-packages/shap/utils/_clustering.py:35: NumbaDeprecationWarning: The 'nopython' keyword argument was not supplied to the 'numba.jit' decorator. The implicit default value for this argument is currently False, but it will be changed to True in Numba 0.59.0. See https://numba.readthedocs.io/en/stable/reference/deprecation.html#deprecation-of-object-mode-fall-back-behaviour-when-using-jit for details.\n",
      "  def _pt_shuffle_rec(i, indexes, index_mask, partition_tree, M, pos):\n",
      "/home/cc/venv/rora_venv/lib/python3.8/site-packages/shap/utils/_clustering.py:54: NumbaDeprecationWarning: The 'nopython' keyword argument was not supplied to the 'numba.jit' decorator. The implicit default value for this argument is currently False, but it will be changed to True in Numba 0.59.0. See https://numba.readthedocs.io/en/stable/reference/deprecation.html#deprecation-of-object-mode-fall-back-behaviour-when-using-jit for details.\n",
      "  def delta_minimization_order(all_masks, max_swap_size=100, num_passes=2):\n",
      "/home/cc/venv/rora_venv/lib/python3.8/site-packages/shap/utils/_clustering.py:63: NumbaDeprecationWarning: The 'nopython' keyword argument was not supplied to the 'numba.jit' decorator. The implicit default value for this argument is currently False, but it will be changed to True in Numba 0.59.0. See https://numba.readthedocs.io/en/stable/reference/deprecation.html#deprecation-of-object-mode-fall-back-behaviour-when-using-jit for details.\n",
      "  def _reverse_window(order, start, length):\n",
      "/home/cc/venv/rora_venv/lib/python3.8/site-packages/shap/utils/_clustering.py:69: NumbaDeprecationWarning: The 'nopython' keyword argument was not supplied to the 'numba.jit' decorator. The implicit default value for this argument is currently False, but it will be changed to True in Numba 0.59.0. See https://numba.readthedocs.io/en/stable/reference/deprecation.html#deprecation-of-object-mode-fall-back-behaviour-when-using-jit for details.\n",
      "  def _reverse_window_score_gain(masks, order, start, length):\n",
      "/home/cc/venv/rora_venv/lib/python3.8/site-packages/shap/utils/_clustering.py:77: NumbaDeprecationWarning: The 'nopython' keyword argument was not supplied to the 'numba.jit' decorator. The implicit default value for this argument is currently False, but it will be changed to True in Numba 0.59.0. See https://numba.readthedocs.io/en/stable/reference/deprecation.html#deprecation-of-object-mode-fall-back-behaviour-when-using-jit for details.\n",
      "  def _mask_delta_score(m1, m2):\n",
      "/home/cc/venv/rora_venv/lib/python3.8/site-packages/shap/links.py:5: NumbaDeprecationWarning: The 'nopython' keyword argument was not supplied to the 'numba.jit' decorator. The implicit default value for this argument is currently False, but it will be changed to True in Numba 0.59.0. See https://numba.readthedocs.io/en/stable/reference/deprecation.html#deprecation-of-object-mode-fall-back-behaviour-when-using-jit for details.\n",
      "  def identity(x):\n",
      "/home/cc/venv/rora_venv/lib/python3.8/site-packages/shap/links.py:10: NumbaDeprecationWarning: The 'nopython' keyword argument was not supplied to the 'numba.jit' decorator. The implicit default value for this argument is currently False, but it will be changed to True in Numba 0.59.0. See https://numba.readthedocs.io/en/stable/reference/deprecation.html#deprecation-of-object-mode-fall-back-behaviour-when-using-jit for details.\n",
      "  def _identity_inverse(x):\n",
      "/home/cc/venv/rora_venv/lib/python3.8/site-packages/shap/links.py:15: NumbaDeprecationWarning: The 'nopython' keyword argument was not supplied to the 'numba.jit' decorator. The implicit default value for this argument is currently False, but it will be changed to True in Numba 0.59.0. See https://numba.readthedocs.io/en/stable/reference/deprecation.html#deprecation-of-object-mode-fall-back-behaviour-when-using-jit for details.\n",
      "  def logit(x):\n",
      "/home/cc/venv/rora_venv/lib/python3.8/site-packages/shap/links.py:20: NumbaDeprecationWarning: The 'nopython' keyword argument was not supplied to the 'numba.jit' decorator. The implicit default value for this argument is currently False, but it will be changed to True in Numba 0.59.0. See https://numba.readthedocs.io/en/stable/reference/deprecation.html#deprecation-of-object-mode-fall-back-behaviour-when-using-jit for details.\n",
      "  def _logit_inverse(x):\n",
      "/home/cc/venv/rora_venv/lib/python3.8/site-packages/shap/utils/_masked_model.py:363: NumbaDeprecationWarning: The 'nopython' keyword argument was not supplied to the 'numba.jit' decorator. The implicit default value for this argument is currently False, but it will be changed to True in Numba 0.59.0. See https://numba.readthedocs.io/en/stable/reference/deprecation.html#deprecation-of-object-mode-fall-back-behaviour-when-using-jit for details.\n",
      "  def _build_fixed_single_output(averaged_outs, last_outs, outputs, batch_positions, varying_rows, num_varying_rows, link, linearizing_weights):\n",
      "/home/cc/venv/rora_venv/lib/python3.8/site-packages/shap/utils/_masked_model.py:385: NumbaDeprecationWarning: The 'nopython' keyword argument was not supplied to the 'numba.jit' decorator. The implicit default value for this argument is currently False, but it will be changed to True in Numba 0.59.0. See https://numba.readthedocs.io/en/stable/reference/deprecation.html#deprecation-of-object-mode-fall-back-behaviour-when-using-jit for details.\n",
      "  def _build_fixed_multi_output(averaged_outs, last_outs, outputs, batch_positions, varying_rows, num_varying_rows, link, linearizing_weights):\n",
      "/home/cc/venv/rora_venv/lib/python3.8/site-packages/shap/utils/_masked_model.py:428: NumbaDeprecationWarning: The 'nopython' keyword argument was not supplied to the 'numba.jit' decorator. The implicit default value for this argument is currently False, but it will be changed to True in Numba 0.59.0. See https://numba.readthedocs.io/en/stable/reference/deprecation.html#deprecation-of-object-mode-fall-back-behaviour-when-using-jit for details.\n",
      "  def _init_masks(cluster_matrix, M, indices_row_pos, indptr):\n",
      "/home/cc/venv/rora_venv/lib/python3.8/site-packages/shap/utils/_masked_model.py:439: NumbaDeprecationWarning: The 'nopython' keyword argument was not supplied to the 'numba.jit' decorator. The implicit default value for this argument is currently False, but it will be changed to True in Numba 0.59.0. See https://numba.readthedocs.io/en/stable/reference/deprecation.html#deprecation-of-object-mode-fall-back-behaviour-when-using-jit for details.\n",
      "  def _rec_fill_masks(cluster_matrix, indices_row_pos, indptr, indices, M, ind):\n",
      "/home/cc/venv/rora_venv/lib/python3.8/site-packages/shap/maskers/_tabular.py:186: NumbaDeprecationWarning: The 'nopython' keyword argument was not supplied to the 'numba.jit' decorator. The implicit default value for this argument is currently False, but it will be changed to True in Numba 0.59.0. See https://numba.readthedocs.io/en/stable/reference/deprecation.html#deprecation-of-object-mode-fall-back-behaviour-when-using-jit for details.\n",
      "  def _single_delta_mask(dind, masked_inputs, last_mask, data, x, noop_code):\n",
      "/home/cc/venv/rora_venv/lib/python3.8/site-packages/shap/maskers/_tabular.py:197: NumbaDeprecationWarning: The 'nopython' keyword argument was not supplied to the 'numba.jit' decorator. The implicit default value for this argument is currently False, but it will be changed to True in Numba 0.59.0. See https://numba.readthedocs.io/en/stable/reference/deprecation.html#deprecation-of-object-mode-fall-back-behaviour-when-using-jit for details.\n",
      "  def _delta_masking(masks, x, curr_delta_inds, varying_rows_out,\n",
      "/home/cc/venv/rora_venv/lib/python3.8/site-packages/shap/maskers/_image.py:175: NumbaDeprecationWarning: The 'nopython' keyword argument was not supplied to the 'numba.jit' decorator. The implicit default value for this argument is currently False, but it will be changed to True in Numba 0.59.0. See https://numba.readthedocs.io/en/stable/reference/deprecation.html#deprecation-of-object-mode-fall-back-behaviour-when-using-jit for details.\n",
      "  def _jit_build_partition_tree(xmin, xmax, ymin, ymax, zmin, zmax, total_ywidth, total_zwidth, M, clustering, q):\n",
      "/home/cc/venv/rora_venv/lib/python3.8/site-packages/shap/explainers/_partition.py:676: NumbaDeprecationWarning: The 'nopython' keyword argument was not supplied to the 'numba.jit' decorator. The implicit default value for this argument is currently False, but it will be changed to True in Numba 0.59.0. See https://numba.readthedocs.io/en/stable/reference/deprecation.html#deprecation-of-object-mode-fall-back-behaviour-when-using-jit for details.\n",
      "  def lower_credit(i, value, M, values, clustering):\n",
      "The 'nopython' keyword argument was not supplied to the 'numba.jit' decorator. The implicit default value for this argument is currently False, but it will be changed to True in Numba 0.59.0. See https://numba.readthedocs.io/en/stable/reference/deprecation.html#deprecation-of-object-mode-fall-back-behaviour-when-using-jit for details.\n",
      "The 'nopython' keyword argument was not supplied to the 'numba.jit' decorator. The implicit default value for this argument is currently False, but it will be changed to True in Numba 0.59.0. See https://numba.readthedocs.io/en/stable/reference/deprecation.html#deprecation-of-object-mode-fall-back-behaviour-when-using-jit for details.\n"
     ]
    }
   ],
   "source": [
    "import torch\n",
    "from transformers import AutoTokenizer\n",
    "\n",
    "import shap\n",
    "import matplotlib.pyplot as plt\n",
    "\n",
    "from error_analysis_TRC import load_local_model, prepare_data"
   ]
  },
  {
   "cell_type": "code",
   "execution_count": 2,
   "metadata": {},
   "outputs": [],
   "source": [
    "ASSIGN_WEIGHT = True\n",
    "\n",
    "device = torch.device(\"cuda\" if torch.cuda.is_available() else \"cpu\")\n",
    "#device = \"cpu\"\n",
    "model_name = 'cardiffnlp/twitter-roberta-large-2022-154m'\n",
    "\n",
    "model_path = '/home/cc/rora_tesi_new/log/log_TRC/twitter-roberta-large-2022-154m/bertweet-seq/20_epoch/data/True_weight/42_seed/saved-model/pytorch_model.bin'\n",
    "config_path = '/home/cc/rora_tesi_new/log/log_TRC/twitter-roberta-large-2022-154m/bertweet-seq/20_epoch/data/True_weight/42_seed/saved-model/config.json'"
   ]
  },
  {
   "cell_type": "code",
   "execution_count": 3,
   "metadata": {},
   "outputs": [],
   "source": [
    "train_data_path = '/home/cc/rora_tesi_new/data/train.p'\n",
    "test_data_path = '/home/cc/rora_tesi_new/data/test.p'\n",
    "\n",
    "need_columns = ['tweet','tweet_tokens', 'sentence_class']\n",
    "\n",
    "tweet_test, tweet_tokens_test, binary_test = prepare_data(test_data_path, need_columns)\n",
    "\n",
    "\n"
   ]
  },
  {
   "cell_type": "code",
   "execution_count": 4,
   "metadata": {},
   "outputs": [
    {
     "name": "stderr",
     "output_type": "stream",
     "text": [
      "Some weights of the model checkpoint at cardiffnlp/twitter-roberta-large-2022-154m were not used when initializing RobertaModel: ['lm_head.dense.weight', 'lm_head.bias', 'lm_head.layer_norm.bias', 'lm_head.dense.bias', 'lm_head.layer_norm.weight']\n",
      "- This IS expected if you are initializing RobertaModel from the checkpoint of a model trained on another task or with another architecture (e.g. initializing a BertForSequenceClassification model from a BertForPreTraining model).\n",
      "- This IS NOT expected if you are initializing RobertaModel from the checkpoint of a model that you expect to be exactly identical (initializing a BertForSequenceClassification model from a BertForSequenceClassification model).\n"
     ]
    }
   ],
   "source": [
    "tokenizer = AutoTokenizer.from_pretrained(model_name, normalization = True)\n",
    "model = load_local_model(model_path, config_path, device, model_name)\n",
    "model = model.to(device)"
   ]
  },
  {
   "cell_type": "code",
   "execution_count": 5,
   "metadata": {},
   "outputs": [
    {
     "name": "stdout",
     "output_type": "stream",
     "text": [
      "['LABEL_0', 'LABEL_1']\n",
      "['0', '1']\n"
     ]
    }
   ],
   "source": [
    "labels = sorted(model.config.label2id, key=model.config.label2id.get)\n",
    "print(labels)\n",
    "labels = [x.split('_')[1] for x in labels]\n",
    "print(labels)"
   ]
  },
  {
   "cell_type": "code",
   "execution_count": 6,
   "metadata": {},
   "outputs": [],
   "source": [
    "torch.cuda.empty_cache()"
   ]
  },
  {
   "cell_type": "code",
   "execution_count": 7,
   "metadata": {},
   "outputs": [],
   "source": [
    "# input della funzione una lista di stringhe\n",
    "\n",
    "def f(x):\n",
    "    # x = [tweet_test[0]]\n",
    "    tv = torch.tensor([tokenizer.encode(v, padding='max_length', max_length=128, truncation=True) for v in x]).to(device)\n",
    "    # print('tv',tv.shape)\n",
    "    attention_mask = (tv!=0).type(torch.int64).to(device)\n",
    "    # print('atte',attention_mask.shape)\n",
    "    model.eval()\n",
    "    with torch.no_grad():\n",
    "        outputs = model(tv, attention_mask, class_weight=None)\n",
    "    # print(outputs)\n",
    "\n",
    "    return outputs['logits']"
   ]
  },
  {
   "cell_type": "code",
   "execution_count": 8,
   "metadata": {},
   "outputs": [
    {
     "data": {
      "text/plain": [
       "tensor([[ 0.7067, -0.7189]], device='cuda:0')"
      ]
     },
     "execution_count": 8,
     "metadata": {},
     "output_type": "execute_result"
    }
   ],
   "source": [
    "f([tweet_test[0]])"
   ]
  },
  {
   "cell_type": "code",
   "execution_count": 9,
   "metadata": {},
   "outputs": [],
   "source": [
    "inputs = []\n",
    "for i in range(10):\n",
    "    inputs.append(tweet_test[i])\n"
   ]
  },
  {
   "cell_type": "code",
   "execution_count": 10,
   "metadata": {},
   "outputs": [],
   "source": [
    "# explainer = shap.Explainer(f, tokenizer, output_names=labels)\n",
    "explainer = shap.Explainer(f, masker = tokenizer)\n"
   ]
  },
  {
   "cell_type": "code",
   "execution_count": 11,
   "metadata": {},
   "outputs": [
    {
     "name": "stderr",
     "output_type": "stream",
     "text": [
      "Partition explainer: 11it [00:39,  4.40s/it]                        \n"
     ]
    }
   ],
   "source": [
    "shap_values = explainer(inputs)"
   ]
  },
  {
   "cell_type": "code",
   "execution_count": 12,
   "metadata": {},
   "outputs": [
    {
     "data": {
      "text/plain": [
       "(10, None, 2)"
      ]
     },
     "execution_count": 12,
     "metadata": {},
     "output_type": "execute_result"
    }
   ],
   "source": [
    "shap_values.shape"
   ]
  },
  {
   "cell_type": "code",
   "execution_count": 13,
   "metadata": {},
   "outputs": [],
   "source": [
    "# shap_values = shap_values[:,:,1]\n",
    "# shap_values.shape"
   ]
  },
  {
   "cell_type": "code",
   "execution_count": 14,
   "metadata": {},
   "outputs": [],
   "source": [
    "import string\n",
    "\n",
    "token_dict = {}\n",
    "def create_token_dict(shap_values):\n",
    "    val = [shap_values[i] for i in range(len(shap_values))]\n",
    "    for el in val:\n",
    "        for i in range(len(el)-1):\n",
    "            token = el[i].data\n",
    "            # print(token)\n",
    "            token = token.strip()\n",
    "            if token not in string.punctuation and token != 'USER' and token != 'HTTPURL' and token != '...' and len(token) >= 3:\n",
    "                # print(token)\n",
    "                shap_val = el[i].values\n",
    "                pos = shap_val[1]\n",
    "                if token not in token_dict.keys():\n",
    "                    token_dict[token] = pos\n",
    "                else:\n",
    "                    token_dict[token] += pos\n",
    "    return token_dict\n",
    "                # PRENDI SOLO VAL RELATIVO ALLA CLASSE POSITIVA\n",
    " \n",
    "\n",
    "    "
   ]
  },
  {
   "cell_type": "code",
   "execution_count": 15,
   "metadata": {},
   "outputs": [],
   "source": [
    "token_dict = create_token_dict(shap_values)"
   ]
  },
  {
   "cell_type": "code",
   "execution_count": 16,
   "metadata": {},
   "outputs": [],
   "source": [
    "sorted = sorted(token_dict.items(), key = lambda x:x[1], reverse = True)"
   ]
  },
  {
   "cell_type": "code",
   "execution_count": 17,
   "metadata": {},
   "outputs": [],
   "source": [
    "sorted_d = dict(sorted)"
   ]
  },
  {
   "cell_type": "code",
   "execution_count": 18,
   "metadata": {},
   "outputs": [
    {
     "data": {
      "text/plain": [
       "{'food': 0.26454263798271616,\n",
       " 'Been': 0.16861308738589287,\n",
       " 'poisoning': 0.13658281521250804,\n",
       " 'driving': 0.11958596333861352,\n",
       " 'ulin': 0.11651391411821048,\n",
       " 'Bot': 0.11408102015654246,\n",
       " 'day': 0.08059069955100616,\n",
       " 'the': 0.07563085229032569,\n",
       " 'stomach': 0.05690295994281769,\n",
       " 'fun': 0.044575752690434456,\n",
       " 'night': 0.04090440356069141,\n",
       " 'earlier': 0.033208651033540565,\n",
       " 'Novel': 0.025063876062631607,\n",
       " 'Form': 0.024367443285882473,\n",
       " 'into': 0.021356435492634773,\n",
       " 'last': 0.018160103716784053,\n",
       " 'rough': 0.01734209433197975,\n",
       " 'oke': 0.01682628784328699,\n",
       " 'was': 0.015205284859985114,\n",
       " 'Ther': 0.012934007282767977,\n",
       " 'mask': 0.012304215009013813,\n",
       " 'got': 0.010649645701050758,\n",
       " 'ended': 0.00875464454293251,\n",
       " 'went': 0.008653262526624732,\n",
       " 'flu': 0.006653677672147751,\n",
       " 'Thought': 0.005886244401335716,\n",
       " 'damn': 0.004997815936803818,\n",
       " 'Food': 0.004804510002334913,\n",
       " 'because': 0.004090313799679279,\n",
       " 'subway': 0.0038946568965911865,\n",
       " 'what': 0.003482228145003319,\n",
       " 'per': 0.002932473085820675,\n",
       " 'that': 0.0025524860247969627,\n",
       " 'eaten': 0.0024325326085090637,\n",
       " 'get': 0.0023170365020632744,\n",
       " 'sever': 0.002305906265974045,\n",
       " 'ate': 0.002288457937538624,\n",
       " 'ille': 0.0014404579997062683,\n",
       " 'off': 0.0014046672731637955,\n",
       " 'twice': 0.0012986763380467893,\n",
       " 'did': 0.001091325655579567,\n",
       " 'Poison': 0.0007708150272568067,\n",
       " 'ess': 0.000759846530854702,\n",
       " 'Pre': 0.0007322728633880615,\n",
       " \"'ve\": 0.0007213950157165527,\n",
       " 'India': 0.0005872286856174469,\n",
       " 'vent': 0.00046980753540992737,\n",
       " 'Ass': 0.00043616537004709244,\n",
       " 'house': 0.00027847103774547577,\n",
       " 'good': 8.614609638849895e-05,\n",
       " 'utan': -6.009203692277265e-05,\n",
       " 'not': -0.000140493114789327,\n",
       " 'streets': -0.00024467892944812775,\n",
       " 'you': -0.00047969911247491837,\n",
       " 'ops': -0.0005797967314720154,\n",
       " 'Used': -0.0006213393062353134,\n",
       " 'ome': -0.0006752079352736473,\n",
       " 'need': -0.0007392851014931996,\n",
       " 'come': -0.0007475893944501877,\n",
       " 'Gen': -0.0007479367777705193,\n",
       " 'breaks': -0.0009317193180322647,\n",
       " 'its': -0.0009945817291736603,\n",
       " 'nothing': -0.0010281391441822052,\n",
       " 'Out': -0.0010334700345993042,\n",
       " 'Sequ': -0.0010371319949626923,\n",
       " 'know': -0.0010881070047616959,\n",
       " 'encing': -0.001167459413409233,\n",
       " 'cruise': -0.0014659566804766655,\n",
       " 'ship': -0.0017595672979950905,\n",
       " 'Mand': -0.001891952008008957,\n",
       " 'URL': -0.0026697845508654914,\n",
       " 'crack': -0.002841914693514506,\n",
       " 'Know': -0.002868400886654854,\n",
       " 'affle': -0.003132840618491173,\n",
       " 'lawyer': -0.0031754703571399054,\n",
       " 'can': -0.003581797704100609,\n",
       " 'gging': -0.0036558769643306732,\n",
       " 'Never': -0.004197116009891033,\n",
       " 'gonna': -0.004561949241906404,\n",
       " 'You': -0.004720664583146572,\n",
       " 'HTTP': -0.004859145109852156,\n",
       " 'work': -0.005584670230746269,\n",
       " 'die': -0.0058332478627562525,\n",
       " 'vomit': -0.006030259653925896,\n",
       " 'poison': -0.006652285344898701,\n",
       " 'from': -0.0071123139932751656,\n",
       " 'have': -0.007981324568390846,\n",
       " 'today': -0.008377590216696262,\n",
       " 'helped': -0.009300461038947105,\n",
       " 'mint': -0.009592649305150622,\n",
       " 'curry': -0.00971110635215328,\n",
       " 'cheap': -0.013099249496701219,\n",
       " 'ing': -0.013878495587656895,\n",
       " 'lol': -0.01537788783510526,\n",
       " 'touch': -0.01707196868956089,\n",
       " 'ream': -0.01733639230951667,\n",
       " 'rinse': -0.02097088728277456,\n",
       " 'out': -0.022174882650789287,\n",
       " 'and': -0.02440069837584382,\n",
       " 'cant': -0.02543935365974903,\n",
       " 'for': -0.026577485352754594,\n",
       " 'though': -0.027851909399032593,\n",
       " 'all': -0.028858929872512817,\n",
       " 'Today': -0.03967472165822983,\n",
       " 'reath': -0.04183821513184479,\n",
       " 'uck': -0.042105398451288543,\n",
       " 'aston': -0.045183486926058926,\n",
       " 'ear': -0.04928784118965268,\n",
       " 'medical': -0.049674513190984725,\n",
       " 'done': -0.05122733488678932,\n",
       " 'Med': -0.0530502051115036,\n",
       " 'had': -0.05317404529168492,\n",
       " 'with': -0.056641737878736526,\n",
       " 'much': -0.06865986064076424,\n",
       " 'New': -0.08775414153933525,\n",
       " 'Almost': -0.09446689113974571,\n",
       " 'Think': -0.09448412247002125,\n",
       " 'ads': -0.11815434984034962,\n",
       " 'think': -0.12972267158329487,\n",
       " 'ished': -0.1366846707339088,\n",
       " 'face': -0.1403204263187945}"
      ]
     },
     "execution_count": 18,
     "metadata": {},
     "output_type": "execute_result"
    }
   ],
   "source": [
    "sorted_d"
   ]
  },
  {
   "cell_type": "code",
   "execution_count": 19,
   "metadata": {},
   "outputs": [],
   "source": [
    "def get_n(n,token_dict):\n",
    "    tmp = {}\n",
    "    for i,k,v in zip(range(n), token_dict.keys(), token_dict.values()):\n",
    "        tmp[k] = v\n",
    "    return tmp\n"
   ]
  },
  {
   "cell_type": "code",
   "execution_count": 20,
   "metadata": {},
   "outputs": [],
   "source": [
    "to_plot = get_n(20, sorted_d)"
   ]
  },
  {
   "cell_type": "code",
   "execution_count": 21,
   "metadata": {},
   "outputs": [
    {
     "data": {
      "image/png": "[encoded data removed]",
      "text/plain": [
       "<Figure size 2500x1000 with 1 Axes>"
      ]
     },
     "metadata": {},
     "output_type": "display_data"
    }
   ],
   "source": [
    "plt.figure(figsize=(25,10))\n",
    "plt.bar(range(len(to_plot)), list(to_plot.values()), tick_label=list(to_plot.keys()))\n",
    "plt.show()"
   ]
  },
  {
   "cell_type": "code",
   "execution_count": 22,
   "metadata": {},
   "outputs": [],
   "source": [
    "# [shap_values[i].values.shape for i in range(len(shap_values))]"
   ]
  },
  {
   "cell_type": "code",
   "execution_count": 23,
   "metadata": {},
   "outputs": [],
   "source": [
    "# per questo grafico prendi solo scores della classe positiva\n",
    "# e solo gli scores di un tweet\n",
    "# shap_values[:,:,1]\n",
    "\n",
    "# input = [tweet_test[3]]\n",
    "# sv = explainer(input)\n",
    "# sv = sv[:,:,1]\n",
    "# shap.plots.waterfall(sv[0], max_display=20)"
   ]
  },
  {
   "cell_type": "code",
   "execution_count": null,
   "metadata": {},
   "outputs": [],
   "source": []
  }
 ],
 "metadata": {
  "kernelspec": {
   "display_name": "rora_venv",
   "language": "python",
   "name": "python3"
  },
  "language_info": {
   "codemirror_mode": {
    "name": "ipython",
    "version": 3
   },
   "file_extension": ".py",
   "mimetype": "text/x-python",
   "name": "python",
   "nbconvert_exporter": "python",
   "pygments_lexer": "ipython3",
   "version": "3.8.10"
  },
  "orig_nbformat": 4
 },
 "nbformat": 4,
 "nbformat_minor": 2
}
